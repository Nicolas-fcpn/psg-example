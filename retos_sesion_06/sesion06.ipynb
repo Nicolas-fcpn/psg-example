{
 "cells": [
  {
   "cell_type": "markdown",
   "id": "82562796",
   "metadata": {},
   "source": [
    "# Sesión 06\n",
    "\n",
    "## Tipos de datos\n",
    "\n",
    "## Datos Booleanos"
   ]
  },
  {
   "cell_type": "code",
   "execution_count": 1,
   "id": "32d77192",
   "metadata": {},
   "outputs": [
    {
     "name": "stdout",
     "output_type": "stream",
     "text": [
      "Tipos de datos booleanos\n",
      "True\n",
      "False\n",
      "2\n",
      "1\n",
      "0\n",
      "0\n",
      "0\n",
      "Números y booleanos\n",
      "211\n",
      "210\n",
      "211\n",
      "0\n"
     ]
    }
   ],
   "source": [
    "print(\"Tipos de datos booleanos\")\n",
    "print(True)\n",
    "print(False)\n",
    "\n",
    "# Operaciones aritméticas con booleanos\n",
    "print(True + True)\n",
    "print(True * True)\n",
    "print(True * False)\n",
    "print(False + False)\n",
    "print(False * False)\n",
    "\n",
    "print(\"Números y booleanos\")\n",
    "print(210 + True)\n",
    "print(210 + False)\n",
    "print(210 + True)\n",
    "print(210 * False)"
   ]
  },
  {
   "cell_type": "markdown",
   "id": "931d706e",
   "metadata": {},
   "source": [
    "## ¿Cómo declarar un booleano?"
   ]
  },
  {
   "cell_type": "code",
   "execution_count": 2,
   "id": "70f9ccda",
   "metadata": {},
   "outputs": [
    {
     "name": "stdout",
     "output_type": "stream",
     "text": [
      "Declarar variables booleanas\n",
      "True\n",
      "<class 'bool'>\n",
      "False\n",
      "<class 'bool'>\n",
      "Declarar mediante función bool()\n",
      "True\n",
      "<class 'bool'>\n",
      "False\n",
      "<class 'bool'>\n",
      "True\n",
      "<class 'bool'>\n"
     ]
    }
   ],
   "source": [
    "print(\"Declarar variables booleanas\")\n",
    "var_booleana = True\n",
    "print(var_booleana)\n",
    "print(type(var_booleana))\n",
    "var_booleana = False\n",
    "print(var_booleana)\n",
    "print(type(var_booleana))\n",
    "\n",
    "print(\"Declarar mediante función bool()\")\n",
    "var_booleana = bool(1)\n",
    "print(var_booleana)\n",
    "print(type(var_booleana))\n",
    "var_booleana = bool(0)\n",
    "print(var_booleana)\n",
    "print(type(var_booleana))\n",
    "var_booleana = bool(-15)\n",
    "print(var_booleana)\n",
    "print(type(var_booleana))"
   ]
  },
  {
   "cell_type": "markdown",
   "id": "f53993fa",
   "metadata": {},
   "source": [
    "## Operadores de comparación"
   ]
  },
  {
   "cell_type": "code",
   "execution_count": 3,
   "id": "413b8d44",
   "metadata": {},
   "outputs": [
    {
     "name": "stdout",
     "output_type": "stream",
     "text": [
      "Operadores de comparación\n",
      "True\n",
      "False\n",
      "False\n",
      "False\n",
      "True\n",
      "True\n",
      "True\n",
      "False\n",
      "Asignación de variables\n",
      "True\n",
      "False\n",
      "<class 'bool'>\n"
     ]
    },
    {
     "name": "stderr",
     "output_type": "stream",
     "text": [
      "<>:8: SyntaxWarning: \"is\" with 'int' literal. Did you mean \"==\"?\n",
      "<>:9: SyntaxWarning: \"is not\" with 'int' literal. Did you mean \"!=\"?\n",
      "<>:8: SyntaxWarning: \"is\" with 'int' literal. Did you mean \"==\"?\n",
      "<>:9: SyntaxWarning: \"is not\" with 'int' literal. Did you mean \"!=\"?\n",
      "C:\\Users\\Nicolas\\AppData\\Local\\Temp\\ipykernel_11400\\2901057265.py:8: SyntaxWarning: \"is\" with 'int' literal. Did you mean \"==\"?\n",
      "  print (10 is 10)\n",
      "C:\\Users\\Nicolas\\AppData\\Local\\Temp\\ipykernel_11400\\2901057265.py:9: SyntaxWarning: \"is not\" with 'int' literal. Did you mean \"!=\"?\n",
      "  print (10 is not 10)\n"
     ]
    }
   ],
   "source": [
    "print (\"Operadores de comparación\")\n",
    "print (10 == 10)\n",
    "print (10 != 10)\n",
    "print (10 < 10)\n",
    "print (10 > 10)\n",
    "print (10 <= 10)\n",
    "print (10 >= 10)\n",
    "print (10 is 10)\n",
    "print (10 is not 10)\n",
    "\n",
    "print (\"Asignación de variables\")\n",
    "x = 10\n",
    "mayor_que_cero = x > 0\n",
    "print (mayor_que_cero)\n",
    "diferente_de_10 = x != 10\n",
    "print (diferente_de_10)\n",
    "print(type(diferente_de_10))"
   ]
  },
  {
   "cell_type": "markdown",
   "id": "2790a1d4",
   "metadata": {},
   "source": [
    "## Operadores lógicos"
   ]
  },
  {
   "cell_type": "code",
   "execution_count": 4,
   "id": "3975b7ce",
   "metadata": {},
   "outputs": [
    {
     "name": "stdout",
     "output_type": "stream",
     "text": [
      "Operadores lógicos\n",
      "True\n",
      "False\n",
      "True\n",
      "False\n",
      "False\n",
      "True\n",
      "Operadores lógicos y prioridad\n",
      "True\n",
      "False\n",
      "True\n",
      "True\n",
      "False\n",
      "False\n"
     ]
    }
   ],
   "source": [
    "print (\"Operadores lógicos\")\n",
    "print (True and True)\n",
    "print (True and False)\n",
    "print (False or True)\n",
    "print (False or False)\n",
    "print (not True)\n",
    "print (not False)\n",
    "\n",
    "print (\"Operadores lógicos y prioridad\")\n",
    "print (False and False or True)\n",
    "print (False and (False or True))\n",
    "print (not True and False or True)\n",
    "print (not (True and False or False))\n",
    "print (not True and (False or False))\n",
    "print (not True and False or False)"
   ]
  },
  {
   "cell_type": "markdown",
   "id": "88c47391",
   "metadata": {},
   "source": [
    "## Funciones lógicas básicas y Tablas de Verdad"
   ]
  },
  {
   "cell_type": "code",
   "execution_count": 5,
   "id": "63d9c099",
   "metadata": {},
   "outputs": [
    {
     "name": "stdout",
     "output_type": "stream",
     "text": [
      "Operador AND\n",
      "True\n",
      "True\n",
      "False\n",
      "False\n",
      "False\n",
      "Operador OR\n",
      "True\n",
      "True\n",
      "True\n",
      "False\n",
      "Operador NOT\n",
      "False\n",
      "True\n",
      "True\n",
      "False\n",
      "Operador NAND\n",
      "False\n",
      "True\n",
      "True\n",
      "True\n",
      "Operador NOR\n",
      "False\n",
      "False\n",
      "False\n",
      "True\n",
      "Operador XOR\n",
      "True\n",
      "False\n"
     ]
    }
   ],
   "source": [
    "print (\"Operador AND\")\n",
    "print (11 > 10 and 5 > 0)\n",
    "print (True and True)\n",
    "print (True and False)\n",
    "print (False and True)\n",
    "print (False and False)\n",
    "\n",
    "print (\"Operador OR\")\n",
    "print (True or True)\n",
    "print (True or False)\n",
    "print (False or True)\n",
    "print (False or False)\n",
    "\n",
    "print (\"Operador NOT\")\n",
    "print (not True)\n",
    "print(not 10 - 10)\n",
    "print (not False)\n",
    "print (not 17**2)\n",
    "\n",
    "print (\"Operador NAND\")\n",
    "print (not (True and True))\n",
    "print (not (True and False))\n",
    "print (not (False and True))\n",
    "print (not (False and False))\n",
    "\n",
    "print (\"Operador NOR\")\n",
    "print (not (True or True))\n",
    "print (not (True or False))\n",
    "print (not (False or True))\n",
    "print (not (False or False))\n",
    "\n",
    "print (\"Operador XOR\")\n",
    "a = True\n",
    "b = False\n",
    "print ((a or b) and not (a and b))\n",
    "a = True\n",
    "b = True\n",
    "print ((a or b) and not (a and b))"
   ]
  },
  {
   "cell_type": "markdown",
   "id": "7261b3d2",
   "metadata": {},
   "source": [
    "Si un sensor detecta movimiento y tiene batería entonces enciende la luz"
   ]
  },
  {
   "cell_type": "code",
   "execution_count": 6,
   "id": "b74e2896",
   "metadata": {},
   "outputs": [
    {
     "name": "stdout",
     "output_type": "stream",
     "text": [
      "Ejemplo de uso Sensor y Batería\n",
      "True and True = True\n",
      "True and False = False\n",
      "False and True = False\n",
      "False and False = False\n"
     ]
    }
   ],
   "source": [
    "print (\"Ejemplo de uso Sensor y Batería\")\n",
    "sensor = True\n",
    "bateria = True\n",
    "print (sensor, \"and\", bateria, \"=\", sensor and bateria)\n",
    "sensor = True\n",
    "bateria = False\n",
    "print (sensor, \"and\", bateria, \"=\", sensor and bateria)\n",
    "sensor = False\n",
    "bateria = True\n",
    "print (sensor, \"and\", bateria, \"=\", sensor and bateria)\n",
    "sensor = False\n",
    "bateria = False\n",
    "print (sensor, \"and\", bateria, \"=\", sensor and bateria)"
   ]
  },
  {
   "cell_type": "markdown",
   "id": "29bbf828",
   "metadata": {},
   "source": [
    "## Ejemplo 1"
   ]
  },
  {
   "cell_type": "code",
   "execution_count": 7,
   "id": "27c9506d",
   "metadata": {},
   "outputs": [
    {
     "name": "stdout",
     "output_type": "stream",
     "text": [
      "Ejemplo 1 - Comparación y Lógicos\n",
      "True\n",
      "nota_total=51, True\n"
     ]
    }
   ],
   "source": [
    "print (\"Ejemplo 1 - Comparación y Lógicos\")\n",
    "numero = 20\n",
    "print (numero >= 0 and numero <= 100)\n",
    "\n",
    "nota_1 = 15\n",
    "nota_2 = 20\n",
    "nota_3 = 16\n",
    "nota_total = nota_1 + nota_2 + nota_3\n",
    "print(f\"{nota_total=},\", nota_total > 50)##"
   ]
  },
  {
   "cell_type": "markdown",
   "id": "0a484de5",
   "metadata": {},
   "source": [
    "## Ejemplo 2"
   ]
  },
  {
   "cell_type": "code",
   "execution_count": 8,
   "id": "fba3e6f9",
   "metadata": {},
   "outputs": [
    {
     "name": "stdout",
     "output_type": "stream",
     "text": [
      "Ejemplo 2 - Aritméticos y comparación\n",
      "True\n",
      "True\n"
     ]
    }
   ],
   "source": [
    "print (\"Ejemplo 2 - Aritméticos y comparación\")\n",
    "nota1 = 15\n",
    "nota2 = 20\n",
    "nota3 = 16\n",
    "print ((nota1 + nota2 + nota3) > 50)\n",
    "\n",
    "numero = 15\n",
    "div_3 = numero % 3 == 0\n",
    "div_5 = numero % 5 == 0\n",
    "div_2 = numero % 2 == 0\n",
    "\n",
    "print(div_3 and div_5 and not div_2)"
   ]
  },
  {
   "cell_type": "markdown",
   "id": "20ab3ef4",
   "metadata": {},
   "source": [
    "## Ejemplo 3"
   ]
  },
  {
   "cell_type": "code",
   "execution_count": 9,
   "id": "75be854d",
   "metadata": {},
   "outputs": [
    {
     "name": "stdout",
     "output_type": "stream",
     "text": [
      "Ejemplo 3 - Aritméticos, comparación y lógicos\n",
      "True\n"
     ]
    }
   ],
   "source": [
    "print (\"Ejemplo 3 - Aritméticos, comparación y lógicos\")\n",
    "numero = 15\n",
    "print ((numero % 3 ==0) and (numero % 5 ==0) and (numero % 2 !=0))"
   ]
  },
  {
   "cell_type": "markdown",
   "id": "0c3c4718",
   "metadata": {},
   "source": [
    "## Cortocircuitos"
   ]
  },
  {
   "cell_type": "code",
   "execution_count": 10,
   "id": "8ba12208",
   "metadata": {},
   "outputs": [
    {
     "name": "stdout",
     "output_type": "stream",
     "text": [
      "Cortocircuito con operador and\n",
      "False\n"
     ]
    },
    {
     "ename": "ZeroDivisionError",
     "evalue": "division by zero",
     "output_type": "error",
     "traceback": [
      "\u001b[31m---------------------------------------------------------------------------\u001b[39m",
      "\u001b[31mZeroDivisionError\u001b[39m                         Traceback (most recent call last)",
      "\u001b[36mCell\u001b[39m\u001b[36m \u001b[39m\u001b[32mIn[10]\u001b[39m\u001b[32m, line 5\u001b[39m\n\u001b[32m      3\u001b[39m y = \u001b[32m0\u001b[39m\n\u001b[32m      4\u001b[39m \u001b[38;5;28mprint\u001b[39m (x > \u001b[32m2\u001b[39m \u001b[38;5;129;01mand\u001b[39;00m (x/y) > \u001b[32m2\u001b[39m)\n\u001b[32m----> \u001b[39m\u001b[32m5\u001b[39m \u001b[38;5;28mprint\u001b[39m (x > \u001b[32m0\u001b[39m \u001b[38;5;129;01mand\u001b[39;00m (\u001b[43mx\u001b[49m\u001b[43m/\u001b[49m\u001b[43my\u001b[49m) > \u001b[32m0\u001b[39m)\n\u001b[32m      7\u001b[39m \u001b[38;5;28mprint\u001b[39m (\u001b[33m\"\u001b[39m\u001b[33mCortocircuito con operador or\u001b[39m\u001b[33m\"\u001b[39m)\n\u001b[32m      8\u001b[39m x = \u001b[32m1\u001b[39m\n",
      "\u001b[31mZeroDivisionError\u001b[39m: division by zero"
     ]
    }
   ],
   "source": [
    "print (\"Cortocircuito con operador and\")\n",
    "x = 1\n",
    "y = 0\n",
    "print (x > 2 and (x/y) > 2)\n",
    "print (x > 0 and (x/y) > 0)\n",
    "\n",
    "print (\"Cortocircuito con operador or\")\n",
    "x = 1\n",
    "y = 0\n",
    "print (x > 0 or (x/y) > 0)\n",
    "print (x > 2 or (x/y) > 2)"
   ]
  }
 ],
 "metadata": {
  "kernelspec": {
   "display_name": "Python 3",
   "language": "python",
   "name": "python3"
  },
  "language_info": {
   "codemirror_mode": {
    "name": "ipython",
    "version": 3
   },
   "file_extension": ".py",
   "mimetype": "text/x-python",
   "name": "python",
   "nbconvert_exporter": "python",
   "pygments_lexer": "ipython3",
   "version": "3.12.1"
  }
 },
 "nbformat": 4,
 "nbformat_minor": 5
}
