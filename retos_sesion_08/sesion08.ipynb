{
 "cells": [
  {
   "cell_type": "markdown",
   "id": "033b84c3",
   "metadata": {},
   "source": [
    "# Sesión 08\n",
    "\n",
    "## Estructuras de datos\n",
    "\n",
    "## Tuplas\n",
    "\n",
    "### Tupla de enteros"
   ]
  },
  {
   "cell_type": "code",
   "execution_count": 2,
   "id": "798d4037",
   "metadata": {},
   "outputs": [
    {
     "name": "stdout",
     "output_type": "stream",
     "text": [
      "Tupla de enteros\n",
      "(1, 2, 3, 4, 5, 6)\n",
      "<class 'tuple'>\n"
     ]
    }
   ],
   "source": [
    "print (\"Tupla de enteros\")\n",
    "enteros = (1,2,3,4,5,6)\n",
    "print (enteros)\n",
    "print (type(enteros))"
   ]
  },
  {
   "cell_type": "markdown",
   "id": "11844427",
   "metadata": {},
   "source": [
    "### Tupla de cadenas"
   ]
  },
  {
   "cell_type": "code",
   "execution_count": 3,
   "id": "fefc7f28",
   "metadata": {},
   "outputs": [
    {
     "name": "stdout",
     "output_type": "stream",
     "text": [
      "Tupla de cadenas\n",
      "('hola', 'mundo', 'desde', 'python')\n",
      "<class 'tuple'>\n"
     ]
    }
   ],
   "source": [
    "print (\"Tupla de cadenas\")\n",
    "cadenas = (\"hola\", \"mundo\", \"desde\", \"python\")\n",
    "print (cadenas)\n",
    "print (type(cadenas))"
   ]
  },
  {
   "cell_type": "markdown",
   "id": "54dd3238",
   "metadata": {},
   "source": [
    "### Tupla mixta"
   ]
  },
  {
   "cell_type": "code",
   "execution_count": 4,
   "id": "f09fbfed",
   "metadata": {},
   "outputs": [
    {
     "name": "stdout",
     "output_type": "stream",
     "text": [
      "Tupla Mixta\n",
      "(1, 'hola', True, 2.5)\n",
      "<class 'tuple'>\n"
     ]
    }
   ],
   "source": [
    "print (\"Tupla Mixta\") \n",
    "mixta = (1, \"hola\", True, 2.5)\n",
    "print (mixta)\n",
    "print (type(mixta))"
   ]
  },
  {
   "cell_type": "markdown",
   "id": "06b438d6",
   "metadata": {},
   "source": [
    "### Tupla vacía"
   ]
  },
  {
   "cell_type": "code",
   "execution_count": 5,
   "id": "2b29f108",
   "metadata": {},
   "outputs": [
    {
     "name": "stdout",
     "output_type": "stream",
     "text": [
      "Tupla vacia\n",
      "()\n",
      "<class 'tuple'>\n"
     ]
    }
   ],
   "source": [
    "print (\"Tupla vacia\")\n",
    "vacia = ()\n",
    "print (vacia)\n",
    "print (type(vacia))"
   ]
  },
  {
   "cell_type": "markdown",
   "id": "4b584b7f",
   "metadata": {},
   "source": [
    "### Tupla con un solo elemento"
   ]
  },
  {
   "cell_type": "code",
   "execution_count": 6,
   "id": "b4e3b94a",
   "metadata": {},
   "outputs": [
    {
     "name": "stdout",
     "output_type": "stream",
     "text": [
      "Tupla de un solo elemento\n",
      "(1,)\n",
      "<class 'tuple'>\n"
     ]
    }
   ],
   "source": [
    "print (\"Tupla de un solo elemento\")\n",
    "uno = (1,)\n",
    "print (uno)\n",
    "print (type(uno))"
   ]
  },
  {
   "cell_type": "markdown",
   "id": "93b27932",
   "metadata": {},
   "source": [
    "### Tupla de una cadena"
   ]
  },
  {
   "cell_type": "code",
   "execution_count": 7,
   "id": "1e4b2659",
   "metadata": {},
   "outputs": [
    {
     "name": "stdout",
     "output_type": "stream",
     "text": [
      "Tupla utilizando la función tuple()\n",
      "('h', 'o', 'l', 'a')\n",
      "<class 'tuple'>\n"
     ]
    }
   ],
   "source": [
    "print (\"Tupla utilizando la función tuple()\")\n",
    "constructor = tuple(\"hola\")\n",
    "print (constructor)\n",
    "print (type(constructor))"
   ]
  },
  {
   "cell_type": "markdown",
   "id": "cfbd75d6",
   "metadata": {},
   "source": [
    "### Indexación y Slicing"
   ]
  },
  {
   "cell_type": "code",
   "execution_count": 8,
   "id": "791c777e",
   "metadata": {},
   "outputs": [
    {
     "name": "stdout",
     "output_type": "stream",
     "text": [
      "Indexado positivo de una tupla\n",
      "1 <class 'int'>\n",
      "2.0 <class 'float'>\n",
      "hola <class 'str'>\n",
      "True <class 'bool'>\n",
      "Indexado negativo de una tupla\n",
      "True <class 'bool'>\n",
      "hola <class 'str'>\n",
      "2.0 <class 'float'>\n",
      "1 <class 'int'>\n",
      "Slicing de una tupla\n",
      "(0, 1, 2, 3, 4, 5, 6, 7, 8, 9, 10)\n",
      "(0, 1, 2, 3, 4)\n",
      "<class 'tuple'>\n",
      "Slicing de una tupla con saltos\n",
      "(0, 1, 2, 3, 4, 5, 6, 7, 8, 9, 10)\n",
      "(0, 2, 4, 6, 8)\n",
      "<class 'tuple'>\n",
      "Slicing de una tupla con saltos negativos\n",
      "(0, 1, 2, 3, 4, 5, 6, 7, 8, 9, 10)\n",
      "(7, 5, 3)\n",
      "<class 'tuple'>\n",
      "(10, 9, 8, 7, 6, 5, 4, 3, 2, 1, 0)\n",
      "<class 'tuple'>\n"
     ]
    }
   ],
   "source": [
    "print (\"Indexado positivo de una tupla\")\n",
    "tupla = (1,2.0, \"hola\", True)\n",
    "print (tupla[0], type(tupla[0]))\n",
    "print (tupla[1], type(tupla[1]))\n",
    "print (tupla[2], type(tupla[2]))\n",
    "print (tupla[3], type(tupla[3]))\n",
    "\n",
    "print (\"Indexado negativo de una tupla\")\n",
    "tupla = (1,2.0, \"hola\", True)\n",
    "print (tupla[-1], type(tupla[-1]))\n",
    "print (tupla[-2], type(tupla[-2]))\n",
    "print (tupla[-3], type(tupla[-3]))\n",
    "print (tupla[-4], type(tupla[-4]))\n",
    "\n",
    "print (\"Slicing de una tupla\")\n",
    "tupla = (0,1,2,3,4,5,6,7,8,9,10)\n",
    "print (tupla)\n",
    "sub_tupla = tupla[0:5]\n",
    "print (sub_tupla)\n",
    "print (type(sub_tupla))\n",
    "\n",
    "print (\"Slicing de una tupla con saltos\")\n",
    "tupla = (0,1,2,3,4,5,6,7,8,9,10)\n",
    "print (tupla)\n",
    "sub_tupla = tupla[0:10:2]\n",
    "print (sub_tupla)\n",
    "print (type(sub_tupla))\n",
    "\n",
    "print (\"Slicing de una tupla con saltos negativos\")\n",
    "tupla = (0,1,2,3,4,5,6,7,8,9,10)\n",
    "print (tupla)\n",
    "sub_tupla = tupla[7:2:-2]\n",
    "print (sub_tupla)\n",
    "print (type(sub_tupla))\n",
    "# Invertir el orden de elementos de una tupla\n",
    "sub_tupla = tupla[-1::-1]\n",
    "print (sub_tupla)\n",
    "print (type(sub_tupla))"
   ]
  },
  {
   "cell_type": "code",
   "execution_count": 9,
   "id": "35d984d4",
   "metadata": {},
   "outputs": [],
   "source": [
    "### Concatenación de tuplas"
   ]
  },
  {
   "cell_type": "code",
   "execution_count": 10,
   "id": "3be1e6f1",
   "metadata": {},
   "outputs": [
    {
     "name": "stdout",
     "output_type": "stream",
     "text": [
      "Concatenación de tuplas\n",
      "(1, 2, 3) (4, 5, 6)\n",
      "(1, 2, 3, 4, 5, 6)\n",
      "<class 'tuple'>\n",
      "Repetición de tuplas\n",
      "(1, 2, 3)\n",
      "(1, 2, 3, 1, 2, 3, 1, 2, 3)\n",
      "<class 'tuple'>\n"
     ]
    }
   ],
   "source": [
    "print (\"Concatenación de tuplas\")\n",
    "tupla1 = (1,2,3)\n",
    "tupla2 = (4,5,6)\n",
    "concatenar = tupla1 + tupla2\n",
    "print (tupla1, tupla2)\n",
    "print (concatenar)\n",
    "print (type(concatenar))\n",
    "\n",
    "print (\"Repetición de tuplas\")\n",
    "tupla = (1,2,3)\n",
    "repetir = tupla * 3\n",
    "print (tupla)\n",
    "print (repetir)\n",
    "print (type(repetir))"
   ]
  },
  {
   "cell_type": "markdown",
   "id": "8e6f10fb",
   "metadata": {},
   "source": [
    "### Asignación múltiple de valores"
   ]
  },
  {
   "cell_type": "code",
   "execution_count": 11,
   "id": "935e1ec6",
   "metadata": {},
   "outputs": [
    {
     "name": "stdout",
     "output_type": "stream",
     "text": [
      "Asignación múltiple\n",
      "('Jhon', 'Doe', '2558628', 22, 1.75, 68)\n",
      "Jhon\n",
      "Doe\n",
      "2558628\n",
      "22\n",
      "1.75\n",
      "68\n"
     ]
    }
   ],
   "source": [
    "print (\"Asignación múltiple\")\n",
    "persona = (\"Jhon\", \"Doe\", \"2558628\", 22, 1.75, 68)\n",
    "nombre, apellido, ci, edad, estatura, peso = persona\n",
    "print (persona)\n",
    "print (nombre)\n",
    "print (apellido)\n",
    "print (ci)\n",
    "print (edad)\n",
    "print (estatura)\n",
    "print (peso)"
   ]
  },
  {
   "cell_type": "markdown",
   "id": "dd674b59",
   "metadata": {},
   "source": [
    "### Métodos de las tuplas"
   ]
  },
  {
   "cell_type": "code",
   "execution_count": 12,
   "id": "121522ee",
   "metadata": {},
   "outputs": [
    {
     "name": "stdout",
     "output_type": "stream",
     "text": [
      "Método index(valor)\n",
      "1\n",
      "2\n",
      "Método count(valor)\n",
      "1\n",
      "2\n",
      "0\n"
     ]
    }
   ],
   "source": [
    "print (\"Método index(valor)\")\n",
    "tupla = (1,2.0, \"hola\", True)\n",
    "print (tupla.index(2.0))\n",
    "print (tupla.index(\"hola\"))\n",
    "\n",
    "print (\"Método count(valor)\")\n",
    "tupla = (1, 2.0, \"hola\", False, \"hola\", \"HOLA\")\n",
    "print (tupla.count(1))\n",
    "print (tupla.count(\"hola\"))\n",
    "print (tupla.count(10))"
   ]
  },
  {
   "cell_type": "markdown",
   "id": "404f8166",
   "metadata": {},
   "source": [
    "### Funciones con tuplas"
   ]
  },
  {
   "cell_type": "code",
   "execution_count": 13,
   "id": "2df6c3ec",
   "metadata": {},
   "outputs": [
    {
     "name": "stdout",
     "output_type": "stream",
     "text": [
      "Función len()\n",
      "(1, 2.0, 'hola', True)\n",
      "4\n",
      "Función max()\n",
      "(1, 2.1, 10, 5.3, 8, 0)\n",
      "10\n",
      "Función min()\n",
      "('a', 'z', 'c', 'b', 'f', 'd')\n",
      "a\n",
      "Función sum()\n",
      "(1.0, 0.5, 2.5, 3.1)\n",
      "7.1\n"
     ]
    }
   ],
   "source": [
    "print (\"Función len()\")\n",
    "tupla = (1,2.0, \"hola\", True)\n",
    "longitud = len(tupla)\n",
    "print (tupla)\n",
    "print (longitud)\n",
    "\n",
    "print (\"Función max()\")\n",
    "tupla = (1,2.1,10,5.3,8,0)\n",
    "maximo = max(tupla)\n",
    "print (tupla)\n",
    "print (maximo)\n",
    "\n",
    "print (\"Función min()\")\n",
    "tupla = (\"a\",\"z\",\"c\",\"b\",\"f\",\"d\")\n",
    "minimo = min(tupla)\n",
    "print (tupla)\n",
    "print (minimo)\n",
    "\n",
    "print (\"Función sum()\")\n",
    "tupla = (1.0, 0.5, 2.5, 3.1)\n",
    "suma = sum(tupla)\n",
    "print (tupla)\n",
    "print (suma)"
   ]
  },
  {
   "cell_type": "markdown",
   "id": "36b89930",
   "metadata": {},
   "source": [
    "### Tuplas anidadas"
   ]
  },
  {
   "cell_type": "code",
   "execution_count": 14,
   "id": "78e584f5",
   "metadata": {},
   "outputs": [
    {
     "name": "stdout",
     "output_type": "stream",
     "text": [
      "Tuplas anidadas\n",
      "(1, 2, 3, (4, 5, 6))\n",
      "(1, 2, 3, (4, 5, 6)) <class 'tuple'>\n",
      "(4, 5, 6) <class 'tuple'>\n",
      "4 <class 'int'>\n",
      "5 <class 'int'>\n",
      "2 <class 'int'>\n",
      "4 <class 'int'>\n",
      "6 <class 'int'>\n",
      "Tuplas anidadas\n",
      "(1, 2, 3, (4, 5, 6)) <class 'tuple'>\n",
      "(4, 5, 6) <class 'tuple'>\n",
      "4 <class 'int'>\n",
      "5 <class 'int'>\n",
      "Estoy aprendiendo a programar\n"
     ]
    }
   ],
   "source": [
    "print (\"Tuplas anidadas\")\n",
    "tupla = (1,2,3, (4,5,6))\n",
    "print (tupla)\n",
    "print (tupla, type(tupla))\n",
    "print (tupla[3], type(tupla[3]))\n",
    "print (tupla[3][0], type(tupla[3][0]))\n",
    "print (tupla[3][1], type(tupla[3][1]))\n",
    "\n",
    "# EJERCICIO: De la siguiente tupla, accede a los valores 2, 4 y 6\n",
    "\n",
    "matrix = ((0,1,2), (3,4,5), (6,7,8))\n",
    "print (matrix[0][2], type(matrix[0][2]))\n",
    "print (matrix[1][1], type(matrix[1][1]))\n",
    "print (matrix[2][0], type(matrix[2][0]))\n",
    "\n",
    "print (\"Tuplas anidadas\")\n",
    "tupla = (1,2,3, (4,5,6))\n",
    "print (tupla, type(tupla))\n",
    "anidado = tupla[3]\n",
    "print (anidado, type(anidado))\n",
    "valor_anidado_0 = anidado[0]\n",
    "print (valor_anidado_0, type(valor_anidado_0))\n",
    "valor_anidado_1 = tupla[3][1]\n",
    "print (valor_anidado_1, type(valor_anidado_1))\n",
    "\n",
    "# EJERCICIO: Acceder a los valores necesarios para formar la frase:\n",
    "# \"Estoy aprendiendo a programar\"\n",
    "\n",
    "cadenas = ((\"a\",\"es\",\"el\",\"programar\"),\n",
    "           (\"estoy\",\"apre\",\"ar\"),\n",
    "           (\"ndiendo\",\"a\"))\n",
    "\n",
    "frase = cadenas[1][0] + \" \" +\\\n",
    "    cadenas[1][1] + \\\n",
    "    cadenas[2][0] + \" \" + \\\n",
    "    cadenas[0][0] + \" \" + cadenas[0][3]\n",
    "\n",
    "print(frase.capitalize())"
   ]
  }
 ],
 "metadata": {
  "kernelspec": {
   "display_name": "Python 3",
   "language": "python",
   "name": "python3"
  },
  "language_info": {
   "codemirror_mode": {
    "name": "ipython",
    "version": 3
   },
   "file_extension": ".py",
   "mimetype": "text/x-python",
   "name": "python",
   "nbconvert_exporter": "python",
   "pygments_lexer": "ipython3",
   "version": "3.12.1"
  }
 },
 "nbformat": 4,
 "nbformat_minor": 5
}
