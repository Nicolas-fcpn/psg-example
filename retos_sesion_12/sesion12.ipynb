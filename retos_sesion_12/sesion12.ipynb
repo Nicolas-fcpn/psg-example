{
 "cells": [
  {
   "cell_type": "markdown",
   "id": "6334cadc",
   "metadata": {},
   "source": [
    "# Sesión 12\n",
    "\n",
    "## Estructura de control de flujo\n",
    "\n",
    "## Sentencias condicionales\n",
    "\n",
    "En un programa las estructuras de control son el orden en el que se ejecutan las instrucciones.\n",
    "\n",
    "Python soporta las siguientes estructuras de control:\n",
    "\n",
    "- Secuencial o lineal\n",
    "- Selección o condicionales\n",
    "- Repetición o ciclos\n",
    "___\n",
    "### Secuencial o lineal\n",
    "\n",
    "Es la ejecución de las instrucciones en el orden en el que se escriben.\n",
    "\n",
    "El problema con la secuencialidad es que no siempre queremos que las instrucciones se ejecuten en el orden en el que se escriben.\n",
    "\n",
    "Para eso existen las estructuras de control de selección y repetición.\n",
    "\n",
    "Hasta el momento hemos visto sólo ejecución secuencial de instrucciones en Python\n",
    "___\n",
    "### Selección o condicionales\n",
    "\n",
    "Las estructuras de selección o condicionales permiten ejecutar un bloque de código si se cumple una condición.\n",
    "\n",
    "Permite a los programas tomar decisiones y ejecutar diferentes acciones dependiendo de las condiciones.\n",
    "\n",
    "En Python se utilizan las siguientes condicionales\n",
    "\n",
    "- if\n",
    "- else\n",
    "- if anidado\n",
    "- elif\n",
    "___\n",
    "### IF\n",
    "\n",
    "La sentencia if permite ejecutar un bloque de código si se cumple una condición.\n",
    "\n",
    "La condición tiene que ser un **booleano**.\n",
    "\n",
    "#### Como se declara un if\n",
    "\n",
    "if tiene la siguiente estructura:\n",
    "\n",
    "- if, es la palabra reservada\n",
    "- condicion, es una expresión evaluada con True o False\n",
    "- :, es el delimitador de la condición\n",
    "- print (\"Cumple\"), es el bloque de código con indentación que se ejecuta si la condición es True\n",
    "\n",
    "En Python la estructura de un condicional if es la siguiente:"
   ]
  },
  {
   "cell_type": "code",
   "execution_count": 3,
   "id": "92347265",
   "metadata": {},
   "outputs": [
    {
     "name": "stdout",
     "output_type": "stream",
     "text": [
      "Inicio\n",
      "Cumple condición\n",
      "Fin\n"
     ]
    }
   ],
   "source": [
    "print (\"Inicio\")\n",
    "condicion = True\n",
    "if condicion:\n",
    "    # Bloque de código\n",
    "    print (\"Cumple condición\")\n",
    "print (\"Fin\")"
   ]
  },
  {
   "cell_type": "markdown",
   "id": "68d3943f",
   "metadata": {},
   "source": [
    "Ejemplo: Dado un número, imprimir si es par."
   ]
  },
  {
   "cell_type": "code",
   "execution_count": 6,
   "id": "912b8052",
   "metadata": {},
   "outputs": [
    {
     "name": "stdout",
     "output_type": "stream",
     "text": [
      "Inicio\n",
      "El número es par\n",
      "Fin\n"
     ]
    }
   ],
   "source": [
    "print (\"Inicio\")\n",
    "numero = 4\n",
    "if numero % 2 == 0: # Si el módulo de 2 es 0\n",
    "    print (\"El número es par\")\n",
    "print (\"Fin\")"
   ]
  },
  {
   "cell_type": "markdown",
   "id": "16aa1bf9",
   "metadata": {},
   "source": [
    "### if-else\n",
    "\n",
    "La sentencia else permite ejecutar un bloque de código si no se cumple la condición del if.\n",
    "\n",
    "Si la condición es True se ejecuta el bloque de código del if.\n",
    "\n",
    "Si la condición es False se ejecuta el bloque de código del else.\n",
    "\n",
    "#### Como se declara un if-else\n",
    "\n",
    "if-else tiene la siguiente estructura:\n",
    "\n",
    "- if - else, son palabras reservadas\n",
    "- condicion, es una expresión True o False\n",
    "- :, es el delimitador en if y else\n",
    "- print (\"Cumple\"), bloque por True\n",
    "- print (\"No cumple\"), bloque por False\n",
    "\n",
    "En Python la estructura de un condicional if-else es la siguiente:"
   ]
  },
  {
   "cell_type": "code",
   "execution_count": 7,
   "id": "220891b1",
   "metadata": {},
   "outputs": [
    {
     "name": "stdout",
     "output_type": "stream",
     "text": [
      "Inicio\n",
      "No cumple condición\n",
      "Fin\n"
     ]
    }
   ],
   "source": [
    "print (\"Inicio\")\n",
    "condicion = False\n",
    "if condicion:\n",
    "    # Bloque de código\n",
    "    print (\"Cumple condición\")\n",
    "else:\n",
    "    # Bloque de código\n",
    "    print (\"No cumple condición\")\n",
    "print (\"Fin\")"
   ]
  },
  {
   "cell_type": "markdown",
   "id": "e6e68952",
   "metadata": {},
   "source": [
    "Ejemplo: Dado un número, imprimir si es par o impar."
   ]
  },
  {
   "cell_type": "code",
   "execution_count": 8,
   "id": "686d1b7e",
   "metadata": {},
   "outputs": [
    {
     "name": "stdout",
     "output_type": "stream",
     "text": [
      "Inicio\n",
      "El número es impar\n",
      "Fin\n"
     ]
    }
   ],
   "source": [
    "print (\"Inicio\")\n",
    "numero = 3\n",
    "if numero % 2 == 0: # Si el módulo de 2 es 0\n",
    "    print (\"El número es par\")\n",
    "else:\n",
    "    print (\"El número es impar\")\n",
    "print (\"Fin\")"
   ]
  },
  {
   "cell_type": "markdown",
   "id": "0a2253f5",
   "metadata": {},
   "source": [
    "### if-anidado\n",
    "\n",
    "La sentencia if anidado permite ejecutar un bloque de código si se cumple una condición.\n",
    "\n",
    "Dentro del bloque de código del if-else se puede anidar otro if-else de manera ilimitada.\n",
    "\n",
    "#### Como se declara un if-anidado\n",
    "\n",
    "- if, else, son palabras reservadas\n",
    "- condicion_1, condicion_2, son expresiones\n",
    "- :, es el delimitador en if y else\n",
    "- La indentación incrementa en cada nivel de anidación\n",
    "\n",
    "En Python la estructura de un condicional if-anidado es la siguiente:"
   ]
  },
  {
   "cell_type": "code",
   "execution_count": 10,
   "id": "5f7205d8",
   "metadata": {},
   "outputs": [
    {
     "name": "stdout",
     "output_type": "stream",
     "text": [
      "Inicio Anidado\n",
      "Cumple condición 1\n",
      "No cumple condición 2\n",
      "Fin\n"
     ]
    }
   ],
   "source": [
    "print (\"Inicio Anidado\")\n",
    "condicion_1 = True\n",
    "condicion_2 = False\n",
    "if condicion_1:\n",
    "    print (\"Cumple condición 1\")\n",
    "    if condicion_2:\n",
    "        print (\"Cumple condición 2\")\n",
    "    else:\n",
    "        print (\"No cumple condición 2\")\n",
    "else:\n",
    "    print (\"No cumple condición 1\")\n",
    "print (\"Fin\")"
   ]
  },
  {
   "cell_type": "markdown",
   "id": "f20be33a",
   "metadata": {},
   "source": [
    "Ejemplo: Dado un número, imprimir si es par, impar o cero"
   ]
  },
  {
   "cell_type": "code",
   "execution_count": 16,
   "id": "924dfb54",
   "metadata": {},
   "outputs": [
    {
     "name": "stdout",
     "output_type": "stream",
     "text": [
      "Inicio Par, Impar o Cero\n",
      "El número es cero\n",
      "Fin\n"
     ]
    }
   ],
   "source": [
    "print (\"Inicio Par, Impar o Cero\")\n",
    "numero = 0\n",
    "if numero != 0:\n",
    "    if numero % 2 == 0: # Si el módulo de 2 es 0\n",
    "        print (\"El número es par\")\n",
    "    else:\n",
    "        print (\"El número es impar\")\n",
    "else:\n",
    "    print (\"El número es cero\")\n",
    "print (\"Fin\")"
   ]
  },
  {
   "cell_type": "markdown",
   "id": "f482a951",
   "metadata": {},
   "source": [
    "Una desventaja de los condicionales anidados es que pueden ser difíciles de leer y entender.\n",
    "\n",
    "Tener una indentación excesiva puede hacer que el código no sea optimo.\n",
    "\n",
    "En Python existe una estructura de control que permite simplificar los condicionales anidados.\n",
    "\n",
    "Se llama elif.\n",
    "___\n",
    "### elif\n",
    "\n",
    "La sentencia elif es la abreviatura de else if.\n",
    "\n",
    "Permite ejecutar un bloque de código si no se cumple la condición del if y sí cumple una nueva condición.\n",
    "\n",
    "#### Como se declara un elif\n",
    "\n",
    "elif tiene la siguiente estructura:\n",
    "\n",
    "- if, elif, else, son palabras reservadas\n",
    "- condicion_1, condicion_2, son expresiones\n",
    "- :, es el delimitador en if, elif y else\n",
    "- La indentación solo incrementa en el primer nivel\n",
    "\n",
    "En Python la estructura de un condicional elif es la siguiente:"
   ]
  },
  {
   "cell_type": "code",
   "execution_count": 17,
   "id": "91da3c46",
   "metadata": {},
   "outputs": [
    {
     "name": "stdout",
     "output_type": "stream",
     "text": [
      "Inicio ELIF\n",
      "Cumple condición 2\n",
      "Fin\n"
     ]
    }
   ],
   "source": [
    "print (\"Inicio ELIF\")\n",
    "condicion_1 = False\n",
    "condicion_2 = True\n",
    "if condicion_1:\n",
    "    print (\"Cumple condición 1\")\n",
    "elif condicion_2:\n",
    "    print (\"Cumple condición 2\")\n",
    "else:\n",
    "    print (\"No cumple condición 1 ni 2\")\n",
    "print (\"Fin\")"
   ]
  },
  {
   "cell_type": "markdown",
   "id": "cc351867",
   "metadata": {},
   "source": [
    "Ejemplo: Dado un número, imprimir si es positivo, negativo o cero."
   ]
  },
  {
   "cell_type": "code",
   "execution_count": 18,
   "id": "bfcd445d",
   "metadata": {},
   "outputs": [
    {
     "name": "stdout",
     "output_type": "stream",
     "text": [
      "Inicio Positivo, Negativo o Cero\n",
      "El número es negativo\n"
     ]
    }
   ],
   "source": [
    "print (\"Inicio Positivo, Negativo o Cero\")\n",
    "numero = -1\n",
    "if numero > 0:\n",
    "    print (\"El número es positivo\")\n",
    "elif numero < 0:\n",
    "    print (\"El número es negativo\")\n",
    "else:\n",
    "    print (\"El número es cero\")"
   ]
  },
  {
   "cell_type": "markdown",
   "id": "0dc41daa",
   "metadata": {},
   "source": [
    "Existe una forma de compactar una condicional en una sola línea.\n",
    "\n",
    "Se llama operador ternario.\n",
    "___\n",
    "### Operador ternario\n",
    "\n",
    "El operador ternario es una forma de compactar una condicional en una sola línea.\n",
    "\n",
    "Como su nombre lo indica, tiene tres partes:\n",
    "\n",
    "- Condición\n",
    "- Resultado verdadero si es True\n",
    "- Resultado falso si es False\n",
    "\n",
    "En Python la estructura de un operador ternario es la siguiente:"
   ]
  },
  {
   "cell_type": "code",
   "execution_count": 24,
   "id": "c269e7b4",
   "metadata": {},
   "outputs": [
    {
     "name": "stdout",
     "output_type": "stream",
     "text": [
      "Inicio Ternario\n",
      "Cumple\n",
      "Fin\n"
     ]
    }
   ],
   "source": [
    "print (\"Inicio Ternario\")\n",
    "condicion = True\n",
    "resultado = \"Cumple\" if condicion else \"No cumple\"\n",
    "print (resultado)\n",
    "print (\"Fin\")"
   ]
  },
  {
   "cell_type": "markdown",
   "id": "12e3bea0",
   "metadata": {},
   "source": [
    "Ejemplo: Dado un número, imprimir si es par o impar"
   ]
  },
  {
   "cell_type": "code",
   "execution_count": 25,
   "id": "7c4d5dac",
   "metadata": {},
   "outputs": [
    {
     "name": "stdout",
     "output_type": "stream",
     "text": [
      "Inicio Ternario Par, Impar\n",
      "El número es impar\n",
      "Fin\n"
     ]
    }
   ],
   "source": [
    "print (\"Inicio Ternario Par, Impar\")\n",
    "numero = 3\n",
    "resultado = \"El número es par\" if numero % 2 == 0 else \"El número es impar\"\n",
    "print (resultado)\n",
    "print (\"Fin\")"
   ]
  },
  {
   "cell_type": "markdown",
   "id": "084d28cf",
   "metadata": {},
   "source": [
    "### Truthiness\n",
    "\n",
    "¿Qué es Truthiness?\n",
    "\n",
    "Es un término que se utiliza para describir el valor de verdad de un objeto.\n",
    "\n",
    "En Python, todos los objetos tienen un valor de verdad.\n",
    "\n",
    "Hay valores que se consideran True y otros que se consideran False.\n",
    "\n",
    "En enteros\n",
    "\n",
    "- 0 es False\n",
    "- 1 es True\n",
    "- -1 es True\n",
    "\n",
    "Todos los números enteros positivos y negativos son True excepto 0.\n",
    "\n",
    "$$x \\in \\mathbb{Z} \\land  x \\neq 0$$\n",
    "\n",
    "Se puede utilizar un entero como condición.\n",
    "\n",
    "Introducir dos números enteros y dividirlos."
   ]
  },
  {
   "cell_type": "code",
   "execution_count": 26,
   "id": "d2186049",
   "metadata": {},
   "outputs": [
    {
     "name": "stdout",
     "output_type": "stream",
     "text": [
      "Truthiness Enteros\n"
     ]
    },
    {
     "ename": "KeyboardInterrupt",
     "evalue": "Interrupted by user",
     "output_type": "error",
     "traceback": [
      "\u001b[31m---------------------------------------------------------------------------\u001b[39m",
      "\u001b[31mKeyboardInterrupt\u001b[39m                         Traceback (most recent call last)",
      "\u001b[36mCell\u001b[39m\u001b[36m \u001b[39m\u001b[32mIn[26]\u001b[39m\u001b[32m, line 2\u001b[39m\n\u001b[32m      1\u001b[39m \u001b[38;5;28mprint\u001b[39m (\u001b[33m\"\u001b[39m\u001b[33mTruthiness Enteros\u001b[39m\u001b[33m\"\u001b[39m)\n\u001b[32m----> \u001b[39m\u001b[32m2\u001b[39m dividendo = \u001b[38;5;28mint\u001b[39m(\u001b[38;5;28;43minput\u001b[39;49m\u001b[43m(\u001b[49m\u001b[33;43m\"\u001b[39;49m\u001b[33;43mDividendo: \u001b[39;49m\u001b[33;43m\"\u001b[39;49m\u001b[43m)\u001b[49m)\n\u001b[32m      3\u001b[39m divisor = \u001b[38;5;28mint\u001b[39m(\u001b[38;5;28minput\u001b[39m(\u001b[33m\"\u001b[39m\u001b[33mDivisor: \u001b[39m\u001b[33m\"\u001b[39m))\n\u001b[32m      4\u001b[39m \u001b[38;5;28mprint\u001b[39m (dividendo,divisor)\n",
      "\u001b[36mFile \u001b[39m\u001b[32md:\\Python312\\Lib\\site-packages\\ipykernel\\kernelbase.py:1282\u001b[39m, in \u001b[36mKernel.raw_input\u001b[39m\u001b[34m(self, prompt)\u001b[39m\n\u001b[32m   1280\u001b[39m     msg = \u001b[33m\"\u001b[39m\u001b[33mraw_input was called, but this frontend does not support input requests.\u001b[39m\u001b[33m\"\u001b[39m\n\u001b[32m   1281\u001b[39m     \u001b[38;5;28;01mraise\u001b[39;00m StdinNotImplementedError(msg)\n\u001b[32m-> \u001b[39m\u001b[32m1282\u001b[39m \u001b[38;5;28;01mreturn\u001b[39;00m \u001b[38;5;28;43mself\u001b[39;49m\u001b[43m.\u001b[49m\u001b[43m_input_request\u001b[49m\u001b[43m(\u001b[49m\n\u001b[32m   1283\u001b[39m \u001b[43m    \u001b[49m\u001b[38;5;28;43mstr\u001b[39;49m\u001b[43m(\u001b[49m\u001b[43mprompt\u001b[49m\u001b[43m)\u001b[49m\u001b[43m,\u001b[49m\n\u001b[32m   1284\u001b[39m \u001b[43m    \u001b[49m\u001b[38;5;28;43mself\u001b[39;49m\u001b[43m.\u001b[49m\u001b[43m_parent_ident\u001b[49m\u001b[43m[\u001b[49m\u001b[33;43m\"\u001b[39;49m\u001b[33;43mshell\u001b[39;49m\u001b[33;43m\"\u001b[39;49m\u001b[43m]\u001b[49m\u001b[43m,\u001b[49m\n\u001b[32m   1285\u001b[39m \u001b[43m    \u001b[49m\u001b[38;5;28;43mself\u001b[39;49m\u001b[43m.\u001b[49m\u001b[43mget_parent\u001b[49m\u001b[43m(\u001b[49m\u001b[33;43m\"\u001b[39;49m\u001b[33;43mshell\u001b[39;49m\u001b[33;43m\"\u001b[39;49m\u001b[43m)\u001b[49m\u001b[43m,\u001b[49m\n\u001b[32m   1286\u001b[39m \u001b[43m    \u001b[49m\u001b[43mpassword\u001b[49m\u001b[43m=\u001b[49m\u001b[38;5;28;43;01mFalse\u001b[39;49;00m\u001b[43m,\u001b[49m\n\u001b[32m   1287\u001b[39m \u001b[43m\u001b[49m\u001b[43m)\u001b[49m\n",
      "\u001b[36mFile \u001b[39m\u001b[32md:\\Python312\\Lib\\site-packages\\ipykernel\\kernelbase.py:1325\u001b[39m, in \u001b[36mKernel._input_request\u001b[39m\u001b[34m(self, prompt, ident, parent, password)\u001b[39m\n\u001b[32m   1322\u001b[39m \u001b[38;5;28;01mexcept\u001b[39;00m \u001b[38;5;167;01mKeyboardInterrupt\u001b[39;00m:\n\u001b[32m   1323\u001b[39m     \u001b[38;5;66;03m# re-raise KeyboardInterrupt, to truncate traceback\u001b[39;00m\n\u001b[32m   1324\u001b[39m     msg = \u001b[33m\"\u001b[39m\u001b[33mInterrupted by user\u001b[39m\u001b[33m\"\u001b[39m\n\u001b[32m-> \u001b[39m\u001b[32m1325\u001b[39m     \u001b[38;5;28;01mraise\u001b[39;00m \u001b[38;5;167;01mKeyboardInterrupt\u001b[39;00m(msg) \u001b[38;5;28;01mfrom\u001b[39;00m\u001b[38;5;250m \u001b[39m\u001b[38;5;28;01mNone\u001b[39;00m\n\u001b[32m   1326\u001b[39m \u001b[38;5;28;01mexcept\u001b[39;00m \u001b[38;5;167;01mException\u001b[39;00m:\n\u001b[32m   1327\u001b[39m     \u001b[38;5;28mself\u001b[39m.log.warning(\u001b[33m\"\u001b[39m\u001b[33mInvalid Message:\u001b[39m\u001b[33m\"\u001b[39m, exc_info=\u001b[38;5;28;01mTrue\u001b[39;00m)\n",
      "\u001b[31mKeyboardInterrupt\u001b[39m: Interrupted by user"
     ]
    }
   ],
   "source": [
    "print (\"Truthiness Enteros\")\n",
    "dividendo = int(input(\"Dividendo: \"))\n",
    "divisor = int(input(\"Divisor: \"))\n",
    "print (dividendo,divisor)\n",
    "if divisor: #divisor != 0\n",
    "    print (dividendo / divisor)\n",
    "else:\n",
    "    print (\"No se puede dividir entre cero\")\n",
    "print (\"Fin\")"
   ]
  },
  {
   "cell_type": "markdown",
   "id": "50d117db",
   "metadata": {},
   "source": [
    "En los flotantes:\n",
    "\n",
    "- 0.0 es False\n",
    "- 1.0 es True\n",
    "- -1.0 es True\n",
    "\n",
    "Todos los números flotantes positivos y negativos son True excepto 0.0\n",
    "\n",
    "$$x \\in \\mathbb{R} \\land x \\neq 0.0$$\n",
    "\n",
    "Se puede utilizar un flotante como condición.\n",
    "\n",
    "Introducir dos números flotantes y dividirlos:"
   ]
  },
  {
   "cell_type": "code",
   "execution_count": 27,
   "id": "c135dbc0",
   "metadata": {},
   "outputs": [
    {
     "name": "stdout",
     "output_type": "stream",
     "text": [
      "Truthiness Flotantes\n"
     ]
    },
    {
     "ename": "KeyboardInterrupt",
     "evalue": "Interrupted by user",
     "output_type": "error",
     "traceback": [
      "\u001b[31m---------------------------------------------------------------------------\u001b[39m",
      "\u001b[31mKeyboardInterrupt\u001b[39m                         Traceback (most recent call last)",
      "\u001b[36mCell\u001b[39m\u001b[36m \u001b[39m\u001b[32mIn[27]\u001b[39m\u001b[32m, line 2\u001b[39m\n\u001b[32m      1\u001b[39m \u001b[38;5;28mprint\u001b[39m (\u001b[33m\"\u001b[39m\u001b[33mTruthiness Flotantes\u001b[39m\u001b[33m\"\u001b[39m)\n\u001b[32m----> \u001b[39m\u001b[32m2\u001b[39m dividendo = \u001b[38;5;28mfloat\u001b[39m(\u001b[38;5;28;43minput\u001b[39;49m\u001b[43m(\u001b[49m\u001b[33;43m\"\u001b[39;49m\u001b[33;43mDividendo: \u001b[39;49m\u001b[33;43m\"\u001b[39;49m\u001b[43m)\u001b[49m)\n\u001b[32m      3\u001b[39m divisor = \u001b[38;5;28mfloat\u001b[39m(\u001b[38;5;28minput\u001b[39m(\u001b[33m\"\u001b[39m\u001b[33mDivisor: \u001b[39m\u001b[33m\"\u001b[39m))\n\u001b[32m      4\u001b[39m \u001b[38;5;28mprint\u001b[39m (dividendo,divisor)\n",
      "\u001b[36mFile \u001b[39m\u001b[32md:\\Python312\\Lib\\site-packages\\ipykernel\\kernelbase.py:1282\u001b[39m, in \u001b[36mKernel.raw_input\u001b[39m\u001b[34m(self, prompt)\u001b[39m\n\u001b[32m   1280\u001b[39m     msg = \u001b[33m\"\u001b[39m\u001b[33mraw_input was called, but this frontend does not support input requests.\u001b[39m\u001b[33m\"\u001b[39m\n\u001b[32m   1281\u001b[39m     \u001b[38;5;28;01mraise\u001b[39;00m StdinNotImplementedError(msg)\n\u001b[32m-> \u001b[39m\u001b[32m1282\u001b[39m \u001b[38;5;28;01mreturn\u001b[39;00m \u001b[38;5;28;43mself\u001b[39;49m\u001b[43m.\u001b[49m\u001b[43m_input_request\u001b[49m\u001b[43m(\u001b[49m\n\u001b[32m   1283\u001b[39m \u001b[43m    \u001b[49m\u001b[38;5;28;43mstr\u001b[39;49m\u001b[43m(\u001b[49m\u001b[43mprompt\u001b[49m\u001b[43m)\u001b[49m\u001b[43m,\u001b[49m\n\u001b[32m   1284\u001b[39m \u001b[43m    \u001b[49m\u001b[38;5;28;43mself\u001b[39;49m\u001b[43m.\u001b[49m\u001b[43m_parent_ident\u001b[49m\u001b[43m[\u001b[49m\u001b[33;43m\"\u001b[39;49m\u001b[33;43mshell\u001b[39;49m\u001b[33;43m\"\u001b[39;49m\u001b[43m]\u001b[49m\u001b[43m,\u001b[49m\n\u001b[32m   1285\u001b[39m \u001b[43m    \u001b[49m\u001b[38;5;28;43mself\u001b[39;49m\u001b[43m.\u001b[49m\u001b[43mget_parent\u001b[49m\u001b[43m(\u001b[49m\u001b[33;43m\"\u001b[39;49m\u001b[33;43mshell\u001b[39;49m\u001b[33;43m\"\u001b[39;49m\u001b[43m)\u001b[49m\u001b[43m,\u001b[49m\n\u001b[32m   1286\u001b[39m \u001b[43m    \u001b[49m\u001b[43mpassword\u001b[49m\u001b[43m=\u001b[49m\u001b[38;5;28;43;01mFalse\u001b[39;49;00m\u001b[43m,\u001b[49m\n\u001b[32m   1287\u001b[39m \u001b[43m\u001b[49m\u001b[43m)\u001b[49m\n",
      "\u001b[36mFile \u001b[39m\u001b[32md:\\Python312\\Lib\\site-packages\\ipykernel\\kernelbase.py:1325\u001b[39m, in \u001b[36mKernel._input_request\u001b[39m\u001b[34m(self, prompt, ident, parent, password)\u001b[39m\n\u001b[32m   1322\u001b[39m \u001b[38;5;28;01mexcept\u001b[39;00m \u001b[38;5;167;01mKeyboardInterrupt\u001b[39;00m:\n\u001b[32m   1323\u001b[39m     \u001b[38;5;66;03m# re-raise KeyboardInterrupt, to truncate traceback\u001b[39;00m\n\u001b[32m   1324\u001b[39m     msg = \u001b[33m\"\u001b[39m\u001b[33mInterrupted by user\u001b[39m\u001b[33m\"\u001b[39m\n\u001b[32m-> \u001b[39m\u001b[32m1325\u001b[39m     \u001b[38;5;28;01mraise\u001b[39;00m \u001b[38;5;167;01mKeyboardInterrupt\u001b[39;00m(msg) \u001b[38;5;28;01mfrom\u001b[39;00m\u001b[38;5;250m \u001b[39m\u001b[38;5;28;01mNone\u001b[39;00m\n\u001b[32m   1326\u001b[39m \u001b[38;5;28;01mexcept\u001b[39;00m \u001b[38;5;167;01mException\u001b[39;00m:\n\u001b[32m   1327\u001b[39m     \u001b[38;5;28mself\u001b[39m.log.warning(\u001b[33m\"\u001b[39m\u001b[33mInvalid Message:\u001b[39m\u001b[33m\"\u001b[39m, exc_info=\u001b[38;5;28;01mTrue\u001b[39;00m)\n",
      "\u001b[31mKeyboardInterrupt\u001b[39m: Interrupted by user"
     ]
    }
   ],
   "source": [
    "print (\"Truthiness Flotantes\")\n",
    "dividendo = float(input(\"Dividendo: \"))\n",
    "divisor = float(input(\"Divisor: \"))\n",
    "print (dividendo,divisor)\n",
    "if divisor: #divisor != 0.0\n",
    "    print (dividendo / divisor)\n",
    "else:\n",
    "    print (\"No se puede dividir entre cero\")\n",
    "print (\"Fin\")"
   ]
  },
  {
   "cell_type": "markdown",
   "id": "ce805b73",
   "metadata": {},
   "source": [
    "En las cadenas\n",
    "\n",
    "- \"\" es False\n",
    "- \" \" es True\n",
    "- \"hola\" es True\n",
    "- \"0\" es True\n",
    "\n",
    "Todas las cadenas no vacías son True.\n",
    "\n",
    "Las cadenas vacías son False.\n",
    "\n",
    "Se puede utilizar una cadena como condición.\n",
    "\n",
    "Introducir una cadena y verificar si es vacía:"
   ]
  },
  {
   "cell_type": "code",
   "execution_count": null,
   "id": "6c25c296",
   "metadata": {},
   "outputs": [],
   "source": [
    "print (\"Truthiness Cadenas\")\n",
    "cadena = input(\"Cadena: \")\n",
    "print (cadena)\n",
    "if cadena: # len(cadena) != 0 or cadena != \"\" \n",
    "    print (\"La cadena no está vacía\")\n",
    "else:\n",
    "    print (\"La cadena está vacía\")\n",
    "print (\"Fin\")"
   ]
  },
  {
   "cell_type": "markdown",
   "id": "ceabc884",
   "metadata": {},
   "source": [
    "En las tuplas:\n",
    "\n",
    "- () es False\n",
    "- (0,) es True\n",
    "- (\"0\",) es True\n",
    "- (\"♎\",) es True\n",
    "\n",
    "Todas las tuplas no vacías son True.\n",
    "\n",
    "Las tuplas vacías son False.\n",
    "\n",
    "Se puede utilizar una tupla como condición.\n",
    "\n",
    "Introducir una tupla y verificar si es vacía."
   ]
  },
  {
   "cell_type": "code",
   "execution_count": null,
   "id": "d71f718c",
   "metadata": {},
   "outputs": [],
   "source": [
    "print (\"Truthiness Tuplas\")\n",
    "tupla = tuple(input(\"Tupla: \"))\n",
    "print (tupla)\n",
    "if tupla: # len(tupla) != 0 or tupla != ()\n",
    "    print (\"La tupla no está vacía\")\n",
    "else:\n",
    "    print (\"La tupla está vacía\")\n",
    "print (\"Fin\")"
   ]
  },
  {
   "cell_type": "markdown",
   "id": "9f87f5cd",
   "metadata": {},
   "source": [
    "En las listas:\n",
    "\n",
    "- [] es False\n",
    "- [0] es True\n",
    "- [\"\"] es True\n",
    "- [\"♎\"] es True\n",
    "\n",
    "Todas las listas no vacías son True.\n",
    "\n",
    "Las listas vacías son False.\n",
    "\n",
    "Se puede utilizar una lista como condición.\n",
    "\n",
    "Introducir una lista y verificar si es vacía."
   ]
  },
  {
   "cell_type": "code",
   "execution_count": null,
   "id": "5754f769",
   "metadata": {},
   "outputs": [],
   "source": [
    "print (\"Truthiness Listas\")\n",
    "lista = list(input(\"Lista: \"))\n",
    "print (lista)\n",
    "if lista: # len(lista) != 0 or lista != []\n",
    "    print (\"La lista no está vacía\")\n",
    "else:\n",
    "    print (\"La lista está vacía\")\n",
    "print (\"Fin\")"
   ]
  },
  {
   "cell_type": "markdown",
   "id": "12b1234e",
   "metadata": {},
   "source": [
    "En conjuntos\n",
    "\n",
    "- set() es False\n",
    "- {0} es True\n",
    "- {\"0\"} es True\n",
    "- {\"♎\"} es True\n",
    "\n",
    "Todos los conjuntos no vacíos son True.\n",
    "\n",
    "Los conjuntos vacíos son False.\n",
    "\n",
    "Se puede utilizar un conjunto como condición.\n",
    "\n",
    "Introducir un conjunto y verificar si es vacío.\n"
   ]
  },
  {
   "cell_type": "code",
   "execution_count": null,
   "id": "29e5796a",
   "metadata": {},
   "outputs": [],
   "source": [
    "print (\"Truthiness Conjuntos\")\n",
    "conjunto = set(input(\"Conjunto: \"))\n",
    "print (conjunto)\n",
    "if conjunto: # len(conjunto) != 0 or conjunto != set()\n",
    "    print (\"El conjunto no está vacío\")\n",
    "else:\n",
    "    print (\"El conjunto está vacío\")\n",
    "print (\"Fin\")"
   ]
  },
  {
   "cell_type": "markdown",
   "id": "05ae733d",
   "metadata": {},
   "source": [
    "En diccionarios\n",
    "\n",
    "- {} es False\n",
    "- {'': ''} es True\n",
    "- {\"0\":0} es True\n",
    "- {\"♎\":\"Libra\"} es True\n",
    "\n",
    "Todos los diccionarios no vacíos son True.\n",
    "\n",
    "Los diccionarios vacíos son False.\n",
    "\n",
    "Se puede utilizar un diccionario como condición.\n",
    "\n",
    "Introducir la clave y un valor y verificar si es vacío."
   ]
  },
  {
   "cell_type": "code",
   "execution_count": null,
   "id": "ece6f06d",
   "metadata": {},
   "outputs": [],
   "source": [
    "print (\"Truthiness Diccionarios\")\n",
    "diccionario = {}\n",
    "clave = input(\"Clave: \")\n",
    "valor = input(\"Valor: \")\n",
    "if clave:\n",
    "  diccionario = {clave:valor}\n",
    "print (diccionario)\n",
    "if diccionario: # diccionario != {}\n",
    "    print (\"El diccionario no está vacío\")\n",
    "else:\n",
    "    print (\"El diccionario está vacío\")\n",
    "print (\"Fin\")"
   ]
  },
  {
   "cell_type": "markdown",
   "id": "7743d10c",
   "metadata": {},
   "source": [
    "None es un valor especial en Python\n",
    "\n",
    "- None es False\n",
    "\n",
    "None es un valor especial que representa la ausencia de un valor.\n",
    "\n",
    "Se puede utilizar None como condición.\n",
    "\n",
    "Introducir un valor y verificar si es None."
   ]
  },
  {
   "cell_type": "code",
   "execution_count": 28,
   "id": "d0e40eeb",
   "metadata": {},
   "outputs": [
    {
     "name": "stdout",
     "output_type": "stream",
     "text": [
      "Truthiness None\n",
      "None <class 'NoneType'>\n",
      "El valor es None\n",
      "Fin\n"
     ]
    }
   ],
   "source": [
    "print (\"Truthiness None\")\n",
    "valor = None\n",
    "print (valor, type(valor))\n",
    "if valor: # valor != None\n",
    "    print (\"El valor no es None\")\n",
    "else:\n",
    "    print (\"El valor es None\")\n",
    "print (\"Fin\")"
   ]
  },
  {
   "cell_type": "markdown",
   "id": "8fbcc38a",
   "metadata": {},
   "source": [
    "Con operadores ternarios es bastante útil para asignar valores a variables."
   ]
  },
  {
   "cell_type": "code",
   "execution_count": null,
   "id": "5497ba6d",
   "metadata": {},
   "outputs": [],
   "source": [
    "entero = int(input(\"Entero: \"))\n",
    "resultado = \"Diferente de 0\" if entero else \"Igual a 0\"\n",
    "print (resultado)\n",
    "flotante = float(input(\"Flotante: \"))\n",
    "resultado = \"Diferente de 0.0\" if flotante else \"Igual a 0.0\"\n",
    "print (resultado)\n",
    "cadena = input(\"Cadena: \")\n",
    "resultado = \"No está vacía\" if cadena else \"Está vacía\"\n",
    "print (resultado)"
   ]
  },
  {
   "cell_type": "markdown",
   "id": "225ea30f",
   "metadata": {},
   "source": [
    "### Ejemplos de usos\n",
    "\n",
    "Tienes un dispositivo que mide la temperatura y si la temperatura es mayor a 30°C enciende un ventilador y si es menor a 20°C lo apaga"
   ]
  },
  {
   "cell_type": "code",
   "execution_count": 31,
   "id": "49ebbc90",
   "metadata": {},
   "outputs": [
    {
     "name": "stdout",
     "output_type": "stream",
     "text": [
      "Ventilador: Apagado\n"
     ]
    }
   ],
   "source": [
    "temperatura = 15\n",
    "estado_ventilador = \"Encendido\" if temperatura > 30 else \"Apagado\" if temperatura < 20 else \"No se necesita ventilador\"\n",
    "print(\"Ventilador:\", estado_ventilador)"
   ]
  },
  {
   "cell_type": "code",
   "execution_count": null,
   "id": "20ce2352",
   "metadata": {},
   "outputs": [],
   "source": [
    "temperatura = float(input(\"Temperatura: \"))\n",
    "if temperatura > 30:\n",
    "    print (\"Encender ventilador\")\n",
    "elif temperatura < 20:\n",
    "    print (\"Apagar ventilador\")"
   ]
  },
  {
   "cell_type": "markdown",
   "id": "0d77808e",
   "metadata": {},
   "source": [
    "Tienes una cesta de frutas y quieres saber si tienes manzanas, si hay manzanas las cuentas y si no hay compras dos manzanas"
   ]
  },
  {
   "cell_type": "code",
   "execution_count": 32,
   "id": "43d6a63d",
   "metadata": {},
   "outputs": [
    {
     "name": "stdout",
     "output_type": "stream",
     "text": [
      "['🍎', '🍑', '🍓', '🍉']\n",
      "Hay 1 manzanas\n"
     ]
    }
   ],
   "source": [
    "cesta = ['🍎','🍑','🍓','🍉']\n",
    "print (cesta)\n",
    "if '🍎' in cesta:\n",
    "    print (f\"Hay {cesta.count('🍎')} manzanas\")\n",
    "else:\n",
    "    cesta.extend(['🍎','🍎'])\n",
    "    print (cesta)"
   ]
  },
  {
   "cell_type": "markdown",
   "id": "7b448df4",
   "metadata": {},
   "source": [
    "Con solo un if"
   ]
  },
  {
   "cell_type": "code",
   "execution_count": null,
   "id": "7edbaede",
   "metadata": {},
   "outputs": [],
   "source": [
    "cesta = ['🍎','🍑','🍓','🍉']\n",
    "print (cesta)\n",
    "if '🍎' in cesta:\n",
    "    print (f\"Hay {cesta.count('🍎')} manzanas\")\n",
    "else:\n",
    "    cesta.extend(['🍎','🍎'])\n",
    "    print (cesta)"
   ]
  },
  {
   "cell_type": "markdown",
   "id": "511d374a",
   "metadata": {},
   "source": [
    "Con operador ternario"
   ]
  },
  {
   "cell_type": "code",
   "execution_count": 33,
   "id": "7cdf1f90",
   "metadata": {},
   "outputs": [
    {
     "name": "stdout",
     "output_type": "stream",
     "text": [
      "['🍑', '🍓', '🍉']\n",
      "None\n",
      "['🍑', '🍓', '🍉', '🍎', '🍎']\n"
     ]
    }
   ],
   "source": [
    "cesta = ['🍑','🍓','🍉']\n",
    "print (cesta)\n",
    "resultado = f\"Hay {cesta.count('🍎')} manzanas\" if '🍎' in cesta else cesta.extend(['🍎','🍎'])\n",
    "print (resultado)\n",
    "print (cesta)"
   ]
  },
  {
   "cell_type": "code",
   "execution_count": 34,
   "id": "c46f1670",
   "metadata": {},
   "outputs": [
    {
     "name": "stdout",
     "output_type": "stream",
     "text": [
      "['🍑', '🍓', '🍉']\n",
      "None\n",
      "['🍑', '🍓', '🍉', '🍎', '🍎']\n"
     ]
    }
   ],
   "source": [
    "cesta = ['🍑','🍓','🍉']\n",
    "print (cesta)\n",
    "resultado = f\"Hay {cesta.count('🍎')} manzanas\" if '🍎' in cesta else cesta.extend(['🍎','🍎'])\n",
    "print (resultado)\n",
    "print (cesta)"
   ]
  },
  {
   "cell_type": "markdown",
   "id": "937a4f0b",
   "metadata": {},
   "source": [
    "En un diccionario tienes almacenado un animal y quieres saber si es un mamífero."
   ]
  },
  {
   "cell_type": "code",
   "execution_count": null,
   "id": "d2c112b1",
   "metadata": {},
   "outputs": [],
   "source": [
    "animal = {'especie':'🐶', 'nombre': 'Firulais', 'mamifero': True}\n",
    "print (animal)\n",
    "if animal.get('mamifero'): # animal['mamifero']\n",
    "    print (\"Es un mamífero\")\n",
    "else:\n",
    "    print (\"No es un mamífero\")"
   ]
  },
  {
   "cell_type": "markdown",
   "id": "cac5c356",
   "metadata": {},
   "source": [
    "Dado dos conjuntos, verificar si tienen elementos en común y mostrarlos y si no, unirlos"
   ]
  },
  {
   "cell_type": "code",
   "execution_count": null,
   "id": "4ee8c448",
   "metadata": {},
   "outputs": [],
   "source": [
    "conjunto_1 = {'⚽','🏀','🏐'}\n",
    "conjunto_2 = {'🏈','🏉','🏓'}\n",
    "print (conjunto_1, conjunto_2)\n",
    "if conjunto_1.isdisjoint(conjunto_2): # len(conjunto_1.intersection(conjunto_2)) == 0\n",
    "    conjunto_1.update(conjunto_2)\n",
    "    print (conjunto_1)\n",
    "else:\n",
    "    print (\"Tienen elementos en común\")\n",
    "    print (conjunto_1.intersection(conjunto_2))"
   ]
  },
  {
   "cell_type": "markdown",
   "id": "d6306a65",
   "metadata": {},
   "source": [
    "Validar si un correo electrónico es válido usando input\n",
    "\n",
    "✅: mail@domain.com, ma.il@domain.com\n",
    "❌: mail@domain, maildomain.com, @.\n",
    "❌: mail@@domain.com, mail@.com\n",
    "\n",
    "Solución anidada"
   ]
  },
  {
   "cell_type": "code",
   "execution_count": null,
   "id": "37dbaf20",
   "metadata": {},
   "outputs": [],
   "source": [
    "correo = input(\"Correo: \")\n",
    "if \"@\" in correo and \".\" in correo and correo.count(\"@\") == 1:\n",
    "    if correo.find(\"@\") < correo.rfind(\".\") and correo.find(\"@\") > 0 and correo.rfind(\".\") < len(correo) - 1:\n",
    "        if correo.rfind(\".\") - correo.find(\"@\") > 1:\n",
    "            if correo.find(\".\") - correo.find(\"@\") > 1:\n",
    "                print (\"El correo es válido\")\n",
    "            else:\n",
    "                print (\"El correo no es válido\")\n",
    "        else:\n",
    "            print (\"El correo no es válido\")\n",
    "    else:\n",
    "        print (\"El correo no es válido\")\n",
    "else:\n",
    "    print (\"El correo no es válido\")"
   ]
  },
  {
   "cell_type": "markdown",
   "id": "b182168d",
   "metadata": {},
   "source": [
    "Solución con elif"
   ]
  },
  {
   "cell_type": "code",
   "execution_count": null,
   "id": "88b7c04f",
   "metadata": {},
   "outputs": [],
   "source": [
    "correo = input(\"Correo: \")\n",
    "if \"@\" not in correo or \".\" not in correo or correo.count(\"@\") != 1:\n",
    "    print(\"El correo no es válido\")\n",
    "elif correo.find(\"@\") >= correo.rfind(\".\") or correo.find(\"@\") == 0 or correo.rfind(\".\") == len(correo) - 1:\n",
    "    print(\"El correo no es válido\")\n",
    "elif correo.rfind(\".\") - correo.find(\"@\") <= 1:\n",
    "    print(\"El correo no es válido\")\n",
    "elif correo.find(\".\") - correo.find(\"@\") == 1:\n",
    "    print(\"El correo no es válido\")\n",
    "else:\n",
    "    print(\"El correo es válido\")"
   ]
  }
 ],
 "metadata": {
  "kernelspec": {
   "display_name": "Python 3",
   "language": "python",
   "name": "python3"
  },
  "language_info": {
   "codemirror_mode": {
    "name": "ipython",
    "version": 3
   },
   "file_extension": ".py",
   "mimetype": "text/x-python",
   "name": "python",
   "nbconvert_exporter": "python",
   "pygments_lexer": "ipython3",
   "version": "3.12.1"
  }
 },
 "nbformat": 4,
 "nbformat_minor": 5
}
