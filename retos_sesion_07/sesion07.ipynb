{
 "cells": [
  {
   "cell_type": "markdown",
   "id": "ab3c9199",
   "metadata": {},
   "source": [
    "# Sesión 07\n",
    "\n",
    "## Tipos de datos\n",
    "\n",
    "## Cadenas\n",
    "\n",
    "### Declaraciones de cadenas"
   ]
  },
  {
   "cell_type": "code",
   "execution_count": 1,
   "id": "7ecfc258",
   "metadata": {},
   "outputs": [
    {
     "name": "stdout",
     "output_type": "stream",
     "text": [
      "Mi cadena permite comillas \"dobles\" en una sola línea\n",
      "Mi cadena permite comillas 'simples' en una sola línea\n",
      "Mi cadena\n",
      "permite contenido \n",
      "en varias líneas y comillas \"dobles\" \n",
      "Mi cadena\n",
      "permite contenido \n",
      "en varias líneas y comillas 'simples' \n"
     ]
    }
   ],
   "source": [
    "simple = 'Mi cadena permite comillas \"dobles\" en una sola línea'\n",
    "doble  = \"Mi cadena permite comillas 'simples' en una sola línea\"\n",
    "triple_simple = '''Mi cadena\n",
    "permite contenido \n",
    "en varias líneas y comillas \"dobles\" '''\n",
    "triple_doble = \"\"\"Mi cadena\n",
    "permite contenido \n",
    "en varias líneas y comillas 'simples' \"\"\"\n",
    "print (simple)\n",
    "print (doble)\n",
    "print (triple_simple)\n",
    "print (triple_doble)"
   ]
  },
  {
   "cell_type": "markdown",
   "id": "4c70cde7",
   "metadata": {},
   "source": [
    "### El método \"str\" recibe un objeto cualquiera y lo retorna como una cadena de caracteres"
   ]
  },
  {
   "cell_type": "code",
   "execution_count": null,
   "id": "bd40e4cf",
   "metadata": {},
   "outputs": [],
   "source": [
    "entero = str(1)\n",
    "flotante = str(1E-3)\n",
    "hexadecimal = str(0xA)\n",
    "booleano = str (True)\n",
    "print (entero)\n",
    "print (flotante)\n",
    "print (hexadecimal)\n",
    "print (booleano)\n",
    "print (type(entero))\n",
    "print (type(flotante))\n",
    "print (type(hexadecimal))\n",
    "print (type(booleano))"
   ]
  },
  {
   "cell_type": "markdown",
   "id": "303ce03f",
   "metadata": {},
   "source": [
    "### Caracteres de escape"
   ]
  },
  {
   "cell_type": "code",
   "execution_count": null,
   "id": "ad522839",
   "metadata": {},
   "outputs": [],
   "source": [
    "print (\"El mensaje enviado fue: \\\"Hello, I\\'m a message\\\"\")\n",
    "print ('El mensaje enviado fue: \\\"Hello, I\\'m a message\\\"')\n",
    "\n",
    "mensaje = \"Hola,\\n\\teste es un mensaje \\v con algunos caracteres \\\n",
    "especiales como \\\\ y tabulador.\"\n",
    "print(mensaje)"
   ]
  },
  {
   "cell_type": "markdown",
   "id": "4cf7a275",
   "metadata": {},
   "source": [
    "### Método input"
   ]
  },
  {
   "cell_type": "code",
   "execution_count": null,
   "id": "4d51d844",
   "metadata": {},
   "outputs": [],
   "source": [
    "entrada = input(\"Ingrese un valor: \")\n",
    "print (entrada)\n",
    "print (type(entrada))\n",
    "entero = int(input(\"Ingrese un valor entero: \"))\n",
    "print (entero, type(entero))\n",
    "\n",
    "flotante = float(input(\"Ingrese un valor flotante: \"))\n",
    "print (flotante, type(flotante))\n",
    "\n",
    "booleano = bool(input(\"Ingrese un valor booleano: \"))\n",
    "print (booleano, type(booleano))"
   ]
  },
  {
   "cell_type": "markdown",
   "id": "c13c7bde",
   "metadata": {},
   "source": [
    "### Manejo de índices"
   ]
  },
  {
   "cell_type": "code",
   "execution_count": null,
   "id": "2cddbbf6",
   "metadata": {},
   "outputs": [],
   "source": [
    "print (\"Indexado positivo\")\n",
    "fruta = \"banana\"\n",
    "print (fruta)\n",
    "print (fruta[0])\n",
    "print (fruta[5])\n",
    "\n",
    "print (\"Indexado negativo\")\n",
    "fruta = \"banana\"\n",
    "print (fruta)\n",
    "print (fruta[-1])\n",
    "print (fruta[-3])"
   ]
  },
  {
   "cell_type": "markdown",
   "id": "c1c413d5",
   "metadata": {},
   "source": [
    "### Segmentación o slicing"
   ]
  },
  {
   "cell_type": "code",
   "execution_count": null,
   "id": "b2413249",
   "metadata": {},
   "outputs": [],
   "source": [
    "print (\"Slicing\")\n",
    "ciudad = \"LaPaz-Bolivia\"\n",
    "print (ciudad)\n",
    "print (\"Slicing con índices positivos\")\n",
    "print (ciudad[0:6])\n",
    "print (ciudad[0:6:2])\n",
    "print (\"Slicing con índices negativos\")\n",
    "print (ciudad[-10:-2])\n",
    "print (ciudad[-10:-2:2])\n",
    "\n",
    "print (\"Slicing sin índice inicial y final\")\n",
    "print (ciudad[:6])\n",
    "print (ciudad[6:])\n",
    "print (\"Slicing sin índice inicial ni final\")\n",
    "print (ciudad[:])\n",
    "print (ciudad[::2])\n",
    "\n",
    "print (\"Slicing con paso negativo\")\n",
    "print (ciudad[10:4:-1])\n",
    "print (ciudad[10::-2])"
   ]
  },
  {
   "cell_type": "markdown",
   "id": "ad176ab2",
   "metadata": {},
   "source": [
    "### Concatenación de una cadena"
   ]
  },
  {
   "cell_type": "code",
   "execution_count": null,
   "id": "c15156c4",
   "metadata": {},
   "outputs": [],
   "source": [
    "print (\"Concatenación de cadenas\")\n",
    "cadena1 = \"Hola\"\n",
    "cadena2 = \"Mundo\"\n",
    "concatenada = cadena1 + \" \" + cadena2\n",
    "print (concatenada)"
   ]
  },
  {
   "cell_type": "markdown",
   "id": "0a85de43",
   "metadata": {},
   "source": [
    "### Repetición de una cadena"
   ]
  },
  {
   "cell_type": "code",
   "execution_count": null,
   "id": "f57da4de",
   "metadata": {},
   "outputs": [],
   "source": [
    "print (\"Repetición de cadenas\")\n",
    "cadena = \"-#-\"\n",
    "repetida = cadena * 10\n",
    "print (repetida)"
   ]
  },
  {
   "cell_type": "markdown",
   "id": "85645947",
   "metadata": {},
   "source": [
    "### Longitud de una cadena"
   ]
  },
  {
   "cell_type": "code",
   "execution_count": null,
   "id": "47dfac8d",
   "metadata": {},
   "outputs": [],
   "source": [
    "print (\"Longitud de una cadena\")\n",
    "cadena = \"Hola Mundo :D\"\n",
    "longitud = len(cadena)\n",
    "print (cadena)\n",
    "print (longitud, type(longitud))"
   ]
  },
  {
   "cell_type": "markdown",
   "id": "73957f5a",
   "metadata": {},
   "source": [
    "### Métodos de cadenas"
   ]
  },
  {
   "cell_type": "code",
   "execution_count": null,
   "id": "e07235e9",
   "metadata": {},
   "outputs": [],
   "source": [
    "print (\"Función Upper\")\n",
    "cadena = \"cadena Inicial #1\"\n",
    "mayuscula  = cadena.upper()\n",
    "print (cadena)\n",
    "print (mayuscula)\n",
    "\n",
    "print (\"Función Lower\")\n",
    "cadena = \"Cadena INICIAL #2\"\n",
    "minuscula  = cadena.lower()\n",
    "print (cadena)\n",
    "print (minuscula)\n",
    "\n",
    "print (\"Función Capitalize\")\n",
    "cadena = \"cadena INICIAL #3\"\n",
    "capital = cadena.capitalize()\n",
    "print (cadena)\n",
    "print (capital)\n",
    "\n",
    "print (\"Función Title\")\n",
    "cadena = \"CADENA inicial #4\"\n",
    "titulo = cadena.title()\n",
    "print (cadena)\n",
    "print (titulo)\n",
    "\n",
    "print (\"Función Swapcase\")\n",
    "cadena = \"CADena InIcIaL #5\"\n",
    "swap = cadena.swapcase()\n",
    "print (cadena)\n",
    "print (swap)\n",
    "\n",
    "print (\"Función Count\")\n",
    "cadena = \"Cantidad de veces la letra A\"\n",
    "contar = cadena.count(\"a\")\n",
    "print(cadena)\n",
    "print(contar, type(contar))\n",
    "\n",
    "print (\"Función Find\")\n",
    "cadena = \"Encontrar las letras las\"\n",
    "buscar = cadena.find(\"las\")\n",
    "print(cadena)\n",
    "print(buscar, type(buscar))\n",
    "\n",
    "print (\"Función Rfind\")\n",
    "cadena = \"Encontrar las letras las\"\n",
    "buscar = cadena.rfind(\"las\")\n",
    "print(cadena)\n",
    "print(buscar, type(buscar))\n",
    "\n",
    "print (\"Función Find y Rfind\")\n",
    "cadena = \"Encontrar tres O\"\n",
    "buscar = cadena.find(\"OOO\")\n",
    "print(cadena)\n",
    "print(buscar, type(buscar))\n",
    "buscar = cadena.rfind(\"OOO\")\n",
    "print(buscar, type(buscar))\n",
    "\n",
    "print (\"Función isdigit\")\n",
    "resultado = \"100\".isdigit()\n",
    "print (resultado, type(resultado))\n",
    "print (\"Función isalpha\")\n",
    "resultado = \"Hola\".isalpha()\n",
    "print (resultado, type(resultado))\n",
    "print (\"Función isalnum\")\n",
    "resultado = \"usuario123\".isalnum()\n",
    "print (resultado, type(resultado))\n",
    "\n",
    "print (\"Función split\")\n",
    "cadena = \"pan,carne,huevos\"\n",
    "separado = cadena.split(\",\")\n",
    "print (cadena)\n",
    "print (separado, type(separado))\n",
    "\n",
    "print (\"Función join\")\n",
    "cadena = \"abcdefghij\"\n",
    "unido = \"-\".join(cadena)\n",
    "print (cadena)\n",
    "print (unido)\n",
    "\n",
    "print (\"Función strip\")\n",
    "cadena = \"      Hola    Mundo     \"\n",
    "limpio = cadena.strip()\n",
    "print (cadena)\n",
    "print (limpio)\n",
    "cadena = \"-abc--def-ghi-cba----\"\n",
    "limpio = cadena.strip(\"bac-\")\n",
    "print (cadena)\n",
    "print (limpio)\n",
    "\n",
    "print (\"Función replace\")\n",
    "cadena = \"Me gusta programar en JS, Amo JS\"\n",
    "reemplazado = cadena.replace(\"JS\", \"Python\")\n",
    "print (cadena)\n",
    "print (reemplazado)\n",
    "\n",
    "print (\"Función format\")\n",
    "cadena = \"El valor de PI es: {}\"\n",
    "formateado = cadena.format(3.1416)\n",
    "print (cadena)\n",
    "print (formateado)\n",
    "\n",
    "print (\"Función format con índices\")\n",
    "cadena = \"{2} es la suma de {0} y {1}\"\n",
    "valor_1 = 5\n",
    "valor_2 = 3\n",
    "resultado = valor_1+valor_2\n",
    "formateado = cadena.format(valor_1, valor_2, resultado)\n",
    "print (cadena)\n",
    "print (formateado)\n",
    "\n",
    "print (\"Función format con nombres\")\n",
    "cadena = \"{ciudad} es la capital de {pais}\"\n",
    "p = \"Francia\"\n",
    "c = \"París\"\n",
    "formateado = cadena.format(pais=p, ciudad=c)\n",
    "print (cadena)\n",
    "print (formateado)\n",
    "\n",
    "print (\"Función format con f-string\")\n",
    "moneda = \"Boliviano\"\n",
    "pais = \"Bolivia\"\n",
    "formateado = f\"La moneda de {pais} es el {moneda}\"\n",
    "print (formateado)"
   ]
  }
 ],
 "metadata": {
  "kernelspec": {
   "display_name": "Python 3",
   "language": "python",
   "name": "python3"
  },
  "language_info": {
   "codemirror_mode": {
    "name": "ipython",
    "version": 3
   },
   "file_extension": ".py",
   "mimetype": "text/x-python",
   "name": "python",
   "nbconvert_exporter": "python",
   "pygments_lexer": "ipython3",
   "version": "3.12.1"
  }
 },
 "nbformat": 4,
 "nbformat_minor": 5
}
