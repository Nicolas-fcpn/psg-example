{
 "cells": [
  {
   "cell_type": "markdown",
   "id": "90373f42",
   "metadata": {},
   "source": [
    "# Sesión 13\n",
    "\n",
    "## Estructura de control de flujo\n",
    "\n",
    "## Sentencias iterativas\n",
    "\n",
    "Hasta el momento hemos visto ejecución secuencial y condicionales.\n",
    "\n",
    "### Repetición o ciclos\n",
    "\n",
    "Los ciclos son estructuras de control que permiten ejecutar un bloque de código varias veces de manera consecutiva.\n",
    "\n",
    "Permite a los programas ejecutar una secuencia de instrucciones varias veces.\n",
    "\n",
    "En Python existen dos tipos de ciclos:\n",
    "\n",
    "- Ciclo for\n",
    "- Ciclo while\n",
    "\n",
    "# FOR\n",
    "\n",
    "El ciclo for es un ciclo que se ejecuta un número determinado de veces.\n",
    "\n",
    "En el caso de los for se recorre una secuencia de elementos.\n",
    "\n",
    "Se puede recorrer un rango de números o listas, tuplas, diccionarios, etc.\n",
    "\n",
    "Para utilizar rango de números primero veremos la función range()."
   ]
  },
  {
   "cell_type": "code",
   "execution_count": 1,
   "id": "d46558b8",
   "metadata": {},
   "outputs": [
    {
     "data": {
      "text/plain": [
       "range(0, 5)"
      ]
     },
     "execution_count": 1,
     "metadata": {},
     "output_type": "execute_result"
    }
   ],
   "source": [
    "range(5)"
   ]
  },
  {
   "cell_type": "markdown",
   "id": "69a8f973",
   "metadata": {},
   "source": [
    "Range es una función que genera una secuencia inmutable de números.\n",
    "\n",
    "Recibe tres argumentos:\n",
    "\n",
    "- Inicio (por defecto 0 e Inclusivo)\n",
    "- Fin (Obligatorio y Exclusivo)\n",
    "- Paso (por defecto 1)"
   ]
  },
  {
   "cell_type": "code",
   "execution_count": 6,
   "id": "65412155",
   "metadata": {},
   "outputs": [
    {
     "data": {
      "text/plain": [
       "range(1, 10, 2)"
      ]
     },
     "execution_count": 6,
     "metadata": {},
     "output_type": "execute_result"
    }
   ],
   "source": [
    "range(1, 10, 2)"
   ]
  },
  {
   "cell_type": "markdown",
   "id": "5c823038",
   "metadata": {},
   "source": [
    "Puede haber rangos negativos."
   ]
  },
  {
   "cell_type": "code",
   "execution_count": 7,
   "id": "f776bdb7",
   "metadata": {},
   "outputs": [
    {
     "data": {
      "text/plain": [
       "range(10, 0, -1)"
      ]
     },
     "execution_count": 7,
     "metadata": {},
     "output_type": "execute_result"
    }
   ],
   "source": [
    "range(10, 0, -1)"
   ]
  },
  {
   "cell_type": "markdown",
   "id": "1adf842e",
   "metadata": {},
   "source": [
    "Podemos convertir el rango en una lista."
   ]
  },
  {
   "cell_type": "code",
   "execution_count": 8,
   "id": "021e3585",
   "metadata": {},
   "outputs": [
    {
     "name": "stdout",
     "output_type": "stream",
     "text": [
      "[0, 1, 2, 3, 4]\n"
     ]
    }
   ],
   "source": [
    "print(list(range(5)))"
   ]
  },
  {
   "cell_type": "markdown",
   "id": "fc403b32",
   "metadata": {},
   "source": [
    "No es necesario convertirlo a lista para usarlo en un ciclo for.\n",
    "\n",
    "Son útiles para iterar sobre una secuencia de números.\n",
    "\n",
    "### Como se declara un for con range\n",
    "\n",
    "for tiene la siguiente estructura\n",
    "\n",
    "for variable in range(inicio, fin, paso):\n",
    "    print(variable)\n",
    "\n",
    "- for es la palabra reservada\n",
    "- variable es la variable que se usará para iterar\n",
    "- in es palabra reservada de pertenencia\n",
    "- range(inicio, fin, paso) es la secuencia de números\n",
    "- : es el delimitador de inicio del ciclo\n",
    "- print(variable) es el código a ejecutar posee un nivel de indentación\n",
    "\n",
    "Cuando iteramos el nombre de la variable puede ser cualquier nombre.\n",
    "\n",
    "Es común usar i que es la abreviatura de índice o iterador.\n",
    "\n",
    "Cuando se itera más de una lista se puede usar i, j, k.\n",
    "\n",
    "Las variables definidas en el ciclo for existen dentro del ciclo.\n",
    "\n",
    "NO se recomienda usarlas fuera del ciclo.\n",
    "\n",
    "Es una mala práctica usar la variable del ciclo fuera del ciclo."
   ]
  },
  {
   "cell_type": "code",
   "execution_count": 17,
   "id": "e25316eb",
   "metadata": {},
   "outputs": [
    {
     "name": "stdout",
     "output_type": "stream",
     "text": [
      "0\n",
      "1\n",
      "2\n",
      "3\n",
      "4\n",
      "4\n"
     ]
    }
   ],
   "source": [
    "for i in range(5):\n",
    "    print(i)\n",
    "print(i)"
   ]
  },
  {
   "cell_type": "markdown",
   "id": "d7096987",
   "metadata": {},
   "source": [
    "En python la estructura de control for es la siguiente:"
   ]
  },
  {
   "cell_type": "code",
   "execution_count": 18,
   "id": "bbca057f",
   "metadata": {},
   "outputs": [
    {
     "name": "stdout",
     "output_type": "stream",
     "text": [
      "Inicio\n",
      "0\n",
      "1\n",
      "2\n",
      "3\n",
      "4\n",
      "Fin\n"
     ]
    }
   ],
   "source": [
    "print (\"Inicio\")\n",
    "for i in range(5): # rango (0,5,1)\n",
    "    print(i)\n",
    "print (\"Fin\")"
   ]
  },
  {
   "cell_type": "markdown",
   "id": "58ea3632",
   "metadata": {},
   "source": [
    "Ejemplo 1, sumar los números del 1 al 10 de 2 en 2."
   ]
  },
  {
   "cell_type": "code",
   "execution_count": 19,
   "id": "cf116fa2",
   "metadata": {},
   "outputs": [
    {
     "name": "stdout",
     "output_type": "stream",
     "text": [
      "Ejemplo 1\n",
      "25\n"
     ]
    }
   ],
   "source": [
    "print (\"Ejemplo 1\")\n",
    "suma = 0\n",
    "for i in range(1, 11, 2): # 1, 3, 5, 7, 9\n",
    "    suma = suma + i #suma += i\n",
    "print(suma)"
   ]
  },
  {
   "cell_type": "markdown",
   "id": "bca7ee2a",
   "metadata": {},
   "source": [
    "Ejemplo 2, crear un árbol de navidad de 6 niveles."
   ]
  },
  {
   "cell_type": "code",
   "execution_count": 20,
   "id": "4dadb4b7",
   "metadata": {},
   "outputs": [
    {
     "name": "stdout",
     "output_type": "stream",
     "text": [
      "Ejemplo 2\n",
      "     *\n",
      "    ***\n",
      "   *****\n",
      "  *******\n",
      " *********\n",
      "***********\n"
     ]
    }
   ],
   "source": [
    "print (\"Ejemplo 2\")\n",
    "for i in range(0, 6):\n",
    "    print(\" \"*(5-i) + \"*\"*i*2+\"*\")"
   ]
  },
  {
   "cell_type": "markdown",
   "id": "813b89b8",
   "metadata": {},
   "source": [
    "Ejemplo 3, crear una serie de números cuadrados del 1 al 10."
   ]
  },
  {
   "cell_type": "code",
   "execution_count": 21,
   "id": "7b80eb24",
   "metadata": {},
   "outputs": [
    {
     "name": "stdout",
     "output_type": "stream",
     "text": [
      "Ejemplo 3\n",
      "1 4 9 16 25 36 49 64 81 100 "
     ]
    }
   ],
   "source": [
    "print (\"Ejemplo 3\")\n",
    "for i in range(1, 11):\n",
    "    print(i**2, end=\" \")"
   ]
  },
  {
   "cell_type": "markdown",
   "id": "c4219bae",
   "metadata": {},
   "source": [
    "Ejemplo 4, crear una lista de números pares del 1 al 10."
   ]
  },
  {
   "cell_type": "code",
   "execution_count": 22,
   "id": "8910afc2",
   "metadata": {},
   "outputs": [
    {
     "name": "stdout",
     "output_type": "stream",
     "text": [
      "Ejemplo 4\n",
      "[0, 2, 4, 6, 8, 10]\n"
     ]
    }
   ],
   "source": [
    "print (\"Ejemplo 4\")\n",
    "pares = []\n",
    "for i in range(0, 11, 2):\n",
    "    pares.append(i)\n",
    "print(pares)"
   ]
  },
  {
   "cell_type": "markdown",
   "id": "ae773883",
   "metadata": {},
   "source": [
    "Ejercicio 1, imprimir los 10 primeros de la serie números cúbicos"
   ]
  },
  {
   "cell_type": "code",
   "execution_count": 25,
   "id": "9b7f03ec",
   "metadata": {},
   "outputs": [
    {
     "name": "stdout",
     "output_type": "stream",
     "text": [
      "Ejercicio 1\n",
      "1\n",
      "8\n",
      "27\n",
      "64\n",
      "125\n",
      "216\n",
      "343\n",
      "512\n",
      "729\n",
      "1000\n"
     ]
    }
   ],
   "source": [
    "print (\"Ejercicio 1\")\n",
    "for i in range(1, 11):\n",
    "    print(i**3)"
   ]
  },
  {
   "cell_type": "markdown",
   "id": "6770bf6e",
   "metadata": {},
   "source": [
    "### Como se declara un for con secuencias\n",
    "\n",
    "La estructura de control for también puede iterar sobre secuencias:\n",
    "\n",
    "- Listas\n",
    "- Tuplas\n",
    "- Diccionarios\n",
    "- Cadenas de texto\n",
    "\n",
    "### for tiene la siguiente estructura\n",
    "\n",
    "for variable in secuencia:\n",
    "    print(variable)\n",
    "\n",
    "- for es la palabra reservada\n",
    "- variable es el nombre de la variable que se usará para iterar\n",
    "- in es la palabra reservada de pertenencia\n",
    "- secuencia es la secuencia de elementos\n",
    "- : es el delimitador de inicio del ciclo\n",
    "- print(variable) es el código a ejecutar posee un nivel de indentación\n",
    "\n",
    "Cuando se itera sobre una secuencia es común nombrar las variables con nombres que representen el elemento."
   ]
  },
  {
   "cell_type": "code",
   "execution_count": 26,
   "id": "dcc8d90f",
   "metadata": {},
   "outputs": [
    {
     "name": "stdout",
     "output_type": "stream",
     "text": [
      "🍎\n",
      "🍌\n",
      "🍇\n",
      "🍉\n"
     ]
    }
   ],
   "source": [
    "for fruta in ['🍎','🍌','🍇','🍉']:\n",
    "    print(fruta)"
   ]
  },
  {
   "cell_type": "markdown",
   "id": "3aac5e25",
   "metadata": {},
   "source": [
    "Ejemplo 5, imprimir los elementos de una lista fiestas."
   ]
  },
  {
   "cell_type": "code",
   "execution_count": 27,
   "id": "0ffba43b",
   "metadata": {},
   "outputs": [
    {
     "name": "stdout",
     "output_type": "stream",
     "text": [
      "Ejemplo 5\n",
      "🎄\n",
      "🎆\n",
      "🎁\n",
      "🎊\n",
      "✨\n",
      "🧨\n"
     ]
    }
   ],
   "source": [
    "print (\"Ejemplo 5\")\n",
    "fiesta = ['🎄','🎆','🎁','🎊','✨','🧨']\n",
    "for objeto in fiesta:\n",
    "    print(objeto)"
   ]
  },
  {
   "cell_type": "markdown",
   "id": "bd3dbd97",
   "metadata": {},
   "source": [
    "Al iterar una lista se obtiene los elementos de la lista.\n",
    "\n",
    "Ejemplo 6, imprimir los elementos de una tupla de frutas separados por coma"
   ]
  },
  {
   "cell_type": "code",
   "execution_count": 28,
   "id": "fea982b1",
   "metadata": {},
   "outputs": [
    {
     "name": "stdout",
     "output_type": "stream",
     "text": [
      "Ejemplo 6\n",
      "🍅, 🍇, 🍈, 🍉, 🍊, "
     ]
    }
   ],
   "source": [
    "print (\"Ejemplo 6\")\n",
    "frutas =  ('🍅','🍇','🍈','🍉','🍊')\n",
    "for fruta in frutas:\n",
    "    print(fruta, end=\", \")"
   ]
  },
  {
   "cell_type": "markdown",
   "id": "e40302e8",
   "metadata": {},
   "source": [
    "Al iterar una tupla se obtiene los elementos.\n",
    "\n",
    "Ejemplo 7, imprimir los elementos de un diccionario."
   ]
  },
  {
   "cell_type": "code",
   "execution_count": 29,
   "id": "e8e73ee9",
   "metadata": {},
   "outputs": [
    {
     "name": "stdout",
     "output_type": "stream",
     "text": [
      "Ejemplo 7\n",
      "🍅 Tomate\n",
      "🍇 Uva\n",
      "🍈 Melón\n",
      "🍉 Sandía\n",
      "🍊 Naranja\n"
     ]
    }
   ],
   "source": [
    "print (\"Ejemplo 7\")\n",
    "frutas = {'🍅':'Tomate','🍇':'Uva','🍈':'Melón','🍉':'Sandía','🍊':'Naranja'}\n",
    "for clave in frutas:\n",
    "    print(clave, frutas[clave])"
   ]
  },
  {
   "cell_type": "markdown",
   "id": "abb1fac5",
   "metadata": {},
   "source": [
    "Al iterar un diccionario devuelve las claves.\n",
    "\n",
    "Ejemplo 8, imprimir los elementos del ciclo de vida de un pollo con flechas."
   ]
  },
  {
   "cell_type": "code",
   "execution_count": 30,
   "id": "1e5c5784",
   "metadata": {},
   "outputs": [
    {
     "name": "stdout",
     "output_type": "stream",
     "text": [
      "Ejemplo 8\n",
      "🥚->🐣->🐥->🐤->🐔->🍗->"
     ]
    }
   ],
   "source": [
    "print (\"Ejemplo 8\")\n",
    "ciclo_vida = '🥚🐣🐥🐤🐔🍗'\n",
    "for etapa in ciclo_vida:\n",
    "    print(etapa, end=\"->\")"
   ]
  },
  {
   "cell_type": "markdown",
   "id": "6edd1cc3",
   "metadata": {},
   "source": [
    "Se puede recorrer elementos con indexación como listas y tuplas de 3 formas:\n",
    "\n",
    "- Mediante in como pertenencia\n",
    "- Mediante len() y range()\n",
    "- Mediante enumerate()\n",
    "\n",
    "### Mediante in\n",
    "\n",
    "Ejemplo 9, Listar los elementos de la siguiente serie ['🐶','🐱','🐰','🐭']"
   ]
  },
  {
   "cell_type": "code",
   "execution_count": 31,
   "id": "2f1342c8",
   "metadata": {},
   "outputs": [
    {
     "name": "stdout",
     "output_type": "stream",
     "text": [
      "Ejemplo 9\n",
      "🐶\n",
      "🐱\n",
      "🐰\n",
      "🐭\n"
     ]
    }
   ],
   "source": [
    "print (\"Ejemplo 9\")\n",
    "animales = ['🐶','🐱','🐰','🐭']\n",
    "for animal in animales:\n",
    "    print(animal)"
   ]
  },
  {
   "cell_type": "markdown",
   "id": "bb77e82d",
   "metadata": {},
   "source": [
    "### Mediante len() y range()\n",
    "\n",
    "Ejemplo 10, Listar los elementos de la siguiente serie ['🐶','🐱','🐰','🐭']"
   ]
  },
  {
   "cell_type": "code",
   "execution_count": 32,
   "id": "55c00f3e",
   "metadata": {},
   "outputs": [
    {
     "name": "stdout",
     "output_type": "stream",
     "text": [
      "Ejemplo 10\n",
      "🐶\n",
      "🐱\n",
      "🐰\n",
      "🐭\n"
     ]
    }
   ],
   "source": [
    "print (\"Ejemplo 10\")\n",
    "animales = ['🐶','🐱','🐰','🐭']\n",
    "for i in range(len(animales)):\n",
    "    print(animales[i])"
   ]
  },
  {
   "cell_type": "markdown",
   "id": "d0db677a",
   "metadata": {},
   "source": [
    "### Mediante enumerate()\n",
    "\n",
    "Primero veremos la función enumerate()\n",
    "\n",
    "Es una función que devuelve un objeto enumerado que contiene pares de índices y valores como tuplas"
   ]
  },
  {
   "cell_type": "code",
   "execution_count": 33,
   "id": "75290925",
   "metadata": {},
   "outputs": [
    {
     "data": {
      "text/plain": [
       "<enumerate at 0x25a848dd620>"
      ]
     },
     "execution_count": 33,
     "metadata": {},
     "output_type": "execute_result"
    }
   ],
   "source": [
    "enumerate(['🐶','🐱','🐰','🐭'])"
   ]
  },
  {
   "cell_type": "markdown",
   "id": "e2b13240",
   "metadata": {},
   "source": [
    "Nos permite recorrer una secuencia y obtener el índice y el valor en cada iteración.\n",
    "\n",
    "Ejemplo 11, Listar los elementos de la siguiente serie ['🐶','🐱','🐰','🐭']"
   ]
  },
  {
   "cell_type": "code",
   "execution_count": 34,
   "id": "95672e28",
   "metadata": {},
   "outputs": [
    {
     "name": "stdout",
     "output_type": "stream",
     "text": [
      "Ejemplo 11\n",
      "0 🐶 🐶\n",
      "1 🐱 🐱\n",
      "2 🐰 🐰\n",
      "3 🐭 🐭\n"
     ]
    }
   ],
   "source": [
    "print (\"Ejemplo 11\")\n",
    "animales = ['🐶','🐱','🐰','🐭']\n",
    "for i, animal in enumerate(animales):\n",
    "    print(i, animal, animales[i])"
   ]
  },
  {
   "cell_type": "markdown",
   "id": "90892fb9",
   "metadata": {},
   "source": [
    "Ejercicio 2, imprimir la cantidad de veces los elementos de la cadena '⚽🏀🏐🎱' de acuerdo a su posición más 1."
   ]
  },
  {
   "cell_type": "code",
   "execution_count": 35,
   "id": "54f15ded",
   "metadata": {},
   "outputs": [
    {
     "name": "stdout",
     "output_type": "stream",
     "text": [
      "Ejercicio 2\n",
      "⚽\n",
      "🏀🏀\n",
      "🏐🏐🏐\n",
      "🎱🎱🎱🎱\n"
     ]
    }
   ],
   "source": [
    "print (\"Ejercicio 2\")\n",
    "esferas = '⚽🏀🏐🎱'\n",
    "for i, esfera in enumerate(esferas):\n",
    "    print(esfera*(i+1))"
   ]
  },
  {
   "cell_type": "markdown",
   "id": "52d07dfb",
   "metadata": {},
   "source": [
    "## While\n",
    "\n",
    "El ciclo while es un ciclo que se ejecuta mientras una condición sea verdadera.\n",
    "\n",
    "Es como un ciclo for pero no se sabe cuantas veces se ejecutará.\n",
    "\n",
    "Similar a un if pero se ejecuta varias veces.\n",
    "\n",
    "### La estructura de control while es la siguiente\n",
    "\n",
    "while condicion:\n",
    "    print(\"Código a ejecutar\")\n",
    "\n",
    "- while es la palabra reservada\n",
    "- condicion es la expresión que se evaluará tiene que ser True o False\n",
    "- : es el delimitador de inicio del ciclo\n",
    "- print(\"Código a ejecutar\") es el código a ejecutar posee un nivel de indentación\n",
    "- condicion se evalúa en cada iteración\n",
    "\n",
    "Ejemplo 12, imprimir los números mientras sean menores o igual a 5 empezando desde 0."
   ]
  },
  {
   "cell_type": "code",
   "execution_count": 36,
   "id": "80be5c32",
   "metadata": {},
   "outputs": [
    {
     "name": "stdout",
     "output_type": "stream",
     "text": [
      "Ejemplo 12\n",
      "0\n",
      "1\n",
      "2\n",
      "3\n",
      "4\n",
      "5\n"
     ]
    }
   ],
   "source": [
    "print (\"Ejemplo 12\")\n",
    "i = 0\n",
    "while i <= 5:\n",
    "    print(i)\n",
    "    i += 1"
   ]
  },
  {
   "cell_type": "markdown",
   "id": "0642e1f7",
   "metadata": {},
   "source": [
    "Ejemplo 13, sumar los números mientras no se ingrese por teclado el número 0"
   ]
  },
  {
   "cell_type": "code",
   "execution_count": null,
   "id": "140c0619",
   "metadata": {},
   "outputs": [],
   "source": [
    "print (\"Ejemplo 13\")\n",
    "suma = 0\n",
    "numero = int(input(\"Ingrese un número: \"))\n",
    "while numero != 0:\n",
    "    suma += numero\n",
    "    numero = int(input(\"Ingrese un número: \"))\n",
    "print(suma)"
   ]
  },
  {
   "cell_type": "markdown",
   "id": "6901f2c1",
   "metadata": {},
   "source": [
    "Ejercicio 3, Ingresa un número por teclado y genera un contador hasta 0, si el número es negativo no hace nada"
   ]
  },
  {
   "cell_type": "code",
   "execution_count": null,
   "id": "2cc89c38",
   "metadata": {},
   "outputs": [],
   "source": [
    "print (\"Ejercicio 3\")\n",
    "numero = int(input(\"Ingrese un número: \"))\n",
    "while numero >= 0:\n",
    "    print(numero)\n",
    "    numero -= 1"
   ]
  },
  {
   "cell_type": "markdown",
   "id": "28712ce2",
   "metadata": {},
   "source": [
    "### Break\n",
    "\n",
    "La sentencia break es una palabra reservada que se usa para salir de un ciclo.\n",
    "\n",
    "Termina el ciclo actual y ejecuta la siguiente instrucción después del ciclo.\n",
    "\n",
    "Es útil para salir de un ciclo cuando se cumple una condición antes de que termine el ciclo.\n",
    "\n",
    "Ejemplo 14, De la siguiente lista de frutas imprimir los elementos hasta que se encuentre un gusano 🐛 con for"
   ]
  },
  {
   "cell_type": "code",
   "execution_count": 37,
   "id": "af80b02c",
   "metadata": {},
   "outputs": [
    {
     "name": "stdout",
     "output_type": "stream",
     "text": [
      "Ejemplo 14\n",
      "🍎\n",
      "🍌\n",
      "🍇\n",
      "🍉\n",
      "🍊\n",
      "Fin\n"
     ]
    }
   ],
   "source": [
    "frutas = ['🍎','🍌','🍇','🍉','🍊','🐛','🍋','🍍']\n",
    "print (\"Ejemplo 14\")\n",
    "for fruta in frutas:\n",
    "    if fruta == '🐛':\n",
    "        break\n",
    "    print(fruta)\n",
    "print (\"Fin\")"
   ]
  },
  {
   "cell_type": "markdown",
   "id": "cb71d51e",
   "metadata": {},
   "source": [
    "Con while"
   ]
  },
  {
   "cell_type": "code",
   "execution_count": 38,
   "id": "75fc0a1d",
   "metadata": {},
   "outputs": [
    {
     "name": "stdout",
     "output_type": "stream",
     "text": [
      "Ejemplo 14\n",
      "🍎\n",
      "🍌\n",
      "🍇\n",
      "🍉\n",
      "🍊\n",
      "🐛\n",
      "Fin\n"
     ]
    }
   ],
   "source": [
    "frutas = ['🍎','🍌','🍇','🍉','🍊','🐛','🍋','🍍']\n",
    "print (\"Ejemplo 14\")\n",
    "i = \"\"\n",
    "while i != '🐛':\n",
    "    i = frutas.pop(0)\n",
    "    print(i)\n",
    "print (\"Fin\")"
   ]
  },
  {
   "cell_type": "markdown",
   "id": "f26bb740",
   "metadata": {},
   "source": [
    "### Ciclos infinitos\n",
    "\n",
    "Un ciclo infinito es un ciclo que no tiene una condición de salida.\n",
    "\n",
    "Se ejecuta indefinidamente hasta que se detiene manualmente con Ctrl+C o mediante un break.\n",
    "\n",
    "Se puede usar para ejecutar tareas en segundo plano.\n",
    "\n",
    "Un mal uso de un ciclo infinito puede hacer que el programa se bloquee.\n",
    "\n",
    "Ejemplo 15, Crear un ciclo infinito que imprima un contador incremental"
   ]
  },
  {
   "cell_type": "code",
   "execution_count": null,
   "id": "227fa231",
   "metadata": {},
   "outputs": [],
   "source": [
    "print (\"Ejemplo 15\")\n",
    "contador = 0\n",
    "while True:\n",
    "    print(contador)\n",
    "    contador += 1"
   ]
  },
  {
   "cell_type": "markdown",
   "id": "033ead57",
   "metadata": {},
   "source": [
    "Ejemplo 16, Crear un ciclo infinito que pida una cadena de texto la ponga en mayúsculas y la imprima hasta que se ingrese la palabra salir"
   ]
  },
  {
   "cell_type": "code",
   "execution_count": null,
   "id": "33c89d26",
   "metadata": {},
   "outputs": [],
   "source": [
    "print (\"Ejemplo 16\")\n",
    "while True:\n",
    "    texto = input(\"Ingrese un texto: \")\n",
    "    if texto == 'salir':\n",
    "        break\n",
    "    print(texto.upper())\n",
    "print (\"Fin\")"
   ]
  },
  {
   "cell_type": "markdown",
   "id": "15b3d6ac",
   "metadata": {},
   "source": [
    "Ejercicio 4, Crear un ciclo infinito que reciba un número por teclado y verifique si es par o impar hasta que se ingrese el número 0"
   ]
  },
  {
   "cell_type": "code",
   "execution_count": null,
   "id": "cba10d5c",
   "metadata": {},
   "outputs": [],
   "source": [
    "print (\"Ejercicio 4\")\n",
    "while True:\n",
    "    numero = int(input(\"Ingrese un número: \"))\n",
    "    if numero == 0:\n",
    "        break\n",
    "    print (\"Par\" if numero % 2 == 0 else \"Impar\")"
   ]
  },
  {
   "cell_type": "markdown",
   "id": "49d86448",
   "metadata": {},
   "source": [
    "## Estructuras por comprensión\n",
    "\n",
    "Las Estructuras por comprensión son una forma de crear estructuras de manera concisa utilizando una sola línea de código\n",
    "\n",
    "Utiliza la estructura de un ciclo for y se puede agregar condicionales\n",
    "\n",
    "Se puede crear listas, tuplas, diccionarios y conjuntos\n",
    "\n",
    "### Estructura de una lista por comprensión\n",
    "\n",
    "[expresion for variable in secuencia]\n",
    "\n",
    "- expresion es la expresión que se evaluará\n",
    "- for es la palabra reservada\n",
    "- variable es el nombre de la variable que se usará para iterar\n",
    "- in es la palabra reservada de pertenencia\n",
    "- secuencia es la secuencia de elementos\n",
    "- [ y ] son los delimitadores de la lista\n",
    "\n",
    "### Estructura de una lista por comprensión y condicional\n",
    "\n",
    "[expresion for variable in secuencia if condicion]\n",
    "\n",
    "- expresion es la expresión que se evaluará\n",
    "- for es la palabra reservada\n",
    "- variable es el nombre de la variable que se usará para iterar\n",
    "- in es la palabra reservada de pertenencia\n",
    "- secuencia es la secuencia de elementos\n",
    "- if es la palabra reservada de condición\n",
    "- condicion es la expresión que se evaluará\n",
    "- [ y ] son los delimitadores de la lista\n",
    "\n",
    "Ejemplo 17, Crear una lista de los números pares del 2 al 10"
   ]
  },
  {
   "cell_type": "code",
   "execution_count": null,
   "id": "c36c0714",
   "metadata": {},
   "outputs": [],
   "source": [
    "print (\"Ejemplo 17\")\n",
    "pares = [i for i in range(2, 11, 2)]\n",
    "print(pares)"
   ]
  },
  {
   "cell_type": "markdown",
   "id": "7b632df5",
   "metadata": {},
   "source": [
    "Ejemplo 18, Crear una lista de los números pares del 2 al 10 con condicional."
   ]
  },
  {
   "cell_type": "code",
   "execution_count": 39,
   "id": "04872d30",
   "metadata": {},
   "outputs": [
    {
     "name": "stdout",
     "output_type": "stream",
     "text": [
      "Ejemplo 18\n",
      "[2, 4, 6, 8, 10]\n"
     ]
    }
   ],
   "source": [
    "print (\"Ejemplo 18\")\n",
    "pares = [i for i in range(2, 11) if i % 2 == 0]\n",
    "print(pares)"
   ]
  },
  {
   "cell_type": "markdown",
   "id": "bde7ab5a",
   "metadata": {},
   "source": [
    "Ejemplo 19, Crear un diccionario números 2 al 10 donde si es par vale \"Par\" y si es impar valga \"Impar\""
   ]
  },
  {
   "cell_type": "code",
   "execution_count": 40,
   "id": "9b1a32f0",
   "metadata": {},
   "outputs": [
    {
     "name": "stdout",
     "output_type": "stream",
     "text": [
      "Ejemplo 19\n",
      "{2: 'Par', 3: 'Impar', 4: 'Par', 5: 'Impar', 6: 'Par', 7: 'Impar', 8: 'Par', 9: 'Impar', 10: 'Par'}\n"
     ]
    }
   ],
   "source": [
    "print (\"Ejemplo 19\")\n",
    "pares = {i: \"Par\" if i % 2 == 0 else \"Impar\" for i in range(2, 11)}\n",
    "print(pares)"
   ]
  },
  {
   "cell_type": "markdown",
   "id": "8d4fcc09",
   "metadata": {},
   "source": [
    "Ejercicio 5, Crear una tupla de los números impares del 1 al 10 usando una tupla por comprensión."
   ]
  },
  {
   "cell_type": "code",
   "execution_count": 41,
   "id": "8ec4cf94",
   "metadata": {},
   "outputs": [
    {
     "name": "stdout",
     "output_type": "stream",
     "text": [
      "Ejercicio 5\n",
      "(1, 3, 5, 7, 9)\n"
     ]
    }
   ],
   "source": [
    "print (\"Ejercicio 5\")\n",
    "impares = tuple(i for i in range(1, 11) if i % 2 != 0)\n",
    "print(impares)"
   ]
  },
  {
   "cell_type": "markdown",
   "id": "e585b2a2",
   "metadata": {},
   "source": [
    "## Ciclos anidados\n",
    "\n",
    "Son ciclos dentro de otros ciclos\n",
    "\n",
    "Se pueden anidar ciclos for y while\n",
    "\n",
    "Ejemplo 20, Imprimir las tablas de multiplicar del 1 y 2"
   ]
  },
  {
   "cell_type": "code",
   "execution_count": 42,
   "id": "07acf897",
   "metadata": {},
   "outputs": [
    {
     "name": "stdout",
     "output_type": "stream",
     "text": [
      "Ejemplo 20\n",
      "Tabla del 1\n",
      "1 x 1 = 1\n",
      "1 x 2 = 2\n",
      "1 x 3 = 3\n",
      "1 x 4 = 4\n",
      "1 x 5 = 5\n",
      "1 x 6 = 6\n",
      "1 x 7 = 7\n",
      "1 x 8 = 8\n",
      "1 x 9 = 9\n",
      "1 x 10 = 10\n",
      "Tabla del 2\n",
      "2 x 1 = 2\n",
      "2 x 2 = 4\n",
      "2 x 3 = 6\n",
      "2 x 4 = 8\n",
      "2 x 5 = 10\n",
      "2 x 6 = 12\n",
      "2 x 7 = 14\n",
      "2 x 8 = 16\n",
      "2 x 9 = 18\n",
      "2 x 10 = 20\n"
     ]
    }
   ],
   "source": [
    "print (\"Ejemplo 20\")\n",
    "for i in range(1, 3):\n",
    "    print(f\"Tabla del {i}\")\n",
    "    for j in range(1, 11):\n",
    "        print(f\"{i} x {j} = {i*j}\")"
   ]
  },
  {
   "cell_type": "markdown",
   "id": "bee520c5",
   "metadata": {},
   "source": [
    "Ejemplo 21, Introducir un número por teclado y crear una tabla de multiplicar de ese número del 1 al 10, si se ingresa 0 termina el programa."
   ]
  },
  {
   "cell_type": "code",
   "execution_count": null,
   "id": "f2356c9b",
   "metadata": {},
   "outputs": [],
   "source": [
    "print (\"Ejemplo 21\")\n",
    "while True:\n",
    "    numero = int(input(\"Ingrese un número: \"))\n",
    "    if numero == 0:\n",
    "        break\n",
    "    print(f\"Tabla del {numero}\")\n",
    "    for i in range(1, 11):\n",
    "        print(f\"{numero} x {i} = {numero*i}\")\n",
    "print (\"Fin\")"
   ]
  },
  {
   "cell_type": "markdown",
   "id": "1b341a78",
   "metadata": {},
   "source": [
    "Una matriz es una lista de listas que se puede recorrer con ciclos anidados\n",
    "\n",
    "Las matrices nos sirven para representar datos en dos dimensiones\n",
    "\n",
    "Son útiles para representar tablas, imágenes, mapas, etc."
   ]
  },
  {
   "cell_type": "code",
   "execution_count": 1,
   "id": "1075eb95",
   "metadata": {},
   "outputs": [
    {
     "name": "stdout",
     "output_type": "stream",
     "text": [
      "1 2 3 \n",
      "4 5 6 \n",
      "7 8 9 \n"
     ]
    }
   ],
   "source": [
    "matriz = [[1, 2, 3], [4, 5, 6], [7, 8, 9]]\n",
    "for fila in matriz:\n",
    "    for columna in fila:\n",
    "        print(columna, end=\" \")\n",
    "    print()"
   ]
  },
  {
   "cell_type": "markdown",
   "id": "2207c0b6",
   "metadata": {},
   "source": [
    "Ejemplo 22, Introducir un número por teclado y crear una matriz nxn con la letra X"
   ]
  },
  {
   "cell_type": "code",
   "execution_count": null,
   "id": "03d0e39e",
   "metadata": {},
   "outputs": [],
   "source": [
    "print (\"Ejemplo 22\")\n",
    "n = int(input(\"Ingrese un número: \"))\n",
    "matriz = [['X' for i in range(n)] for j in range(n)]\n",
    "for fila in matriz:\n",
    "    for columna in fila:\n",
    "        print(columna, end=\" \")\n",
    "    print()\n",
    "print (matriz)"
   ]
  },
  {
   "cell_type": "markdown",
   "id": "87015c01",
   "metadata": {},
   "source": [
    "Ejercicio 6, Crear una matriz ingresando un número por teclado para el tamaño de la matriz y en cada posición colocar una tupla con (i, j)"
   ]
  },
  {
   "cell_type": "code",
   "execution_count": null,
   "id": "2f268d58",
   "metadata": {},
   "outputs": [],
   "source": [
    "print (\"Ejercicio 6\")\n",
    "n = int(input(\"Ingrese un número: \"))\n",
    "matriz = [[(j, i) for i in range(n)] for j in range(n)]\n",
    "for fila in matriz:\n",
    "    for columna in fila:\n",
    "        print(columna, end=\" \")\n",
    "    print()\n",
    "print (matriz)"
   ]
  }
 ],
 "metadata": {
  "kernelspec": {
   "display_name": "Python 3",
   "language": "python",
   "name": "python3"
  },
  "language_info": {
   "codemirror_mode": {
    "name": "ipython",
    "version": 3
   },
   "file_extension": ".py",
   "mimetype": "text/x-python",
   "name": "python",
   "nbconvert_exporter": "python",
   "pygments_lexer": "ipython3",
   "version": "3.12.1"
  }
 },
 "nbformat": 4,
 "nbformat_minor": 5
}
