{
 "cells": [
  {
   "cell_type": "markdown",
   "id": "40328ab8",
   "metadata": {},
   "source": [
    "# Sesión 15\n",
    "\n",
    "## ERRORES Y EXCEPCIONES\n",
    "\n",
    "## TRY-EXCEPT\n",
    "\n",
    "No podemos controlar lo que un usuario ingresa por lo que debemos anticipar los que pueden ocurrir.\n",
    "\n",
    "### ¿Qué es un error?\n",
    "\n",
    "Un error es una situación que se produce cuando una instrucción no puede ejecutarse correctamente.\n",
    "\n",
    "En Python, un error puede ser un error de sintaxis o un error de excepción.\n",
    "\n",
    "Un error de sintaxis se produce cuando Python no puede interpretar nuestro código.\n",
    "\n",
    "Generalmente porque hemos escrito mal alguna parte del código.\n",
    "\n",
    "print(\"Hola Mundo)\n",
    "line 1\n",
    "    print(\"Hola Mundo)\n",
    "          ^\n",
    "SyntaxError: unterminated string literal (detected at line 1)\n",
    "\n",
    "### ¿Qué es una excepción?\n",
    "\n",
    "Una excepción es un error que ocurre durante la ejecución de un programa.\n",
    "\n",
    "Cuando se produce una excepción, el programa se detiene y muestra un mensaje de error.\n",
    "\n",
    "La mayoría de las excepciones son ya gestionadas por Python.\n",
    "\n",
    "A veces es necesario gestionar las excepciones nosotros mismos.\n",
    "\n",
    "En Python las excepciones se pueden manejar para evitar que el programa se detenga inesperadamente.\n",
    "\n",
    "### Estructura de una excepción Simple\n",
    "\n",
    "try:\n",
    "    # Código que puede lanzar una excepción\n",
    "except Exception as e:\n",
    "    # Código que se ejecuta si se produce una excepción\n",
    "    # Código que se ejecuta siempre fuera del bloque try-except\n",
    "\n",
    "- try: Bloque de código que puede lanzar una excepción posee indentación\n",
    "- except: Bloque de código que se ejecuta si se produce una excepción\n",
    "- Exception as e: Captura la excepción y la almacena en la variable e\n",
    "\n",
    "### Ejemplo 1, División por cero"
   ]
  },
  {
   "cell_type": "code",
   "execution_count": 1,
   "id": "bbceb96f",
   "metadata": {},
   "outputs": [
    {
     "name": "stdout",
     "output_type": "stream",
     "text": [
      "Inicio Ejemplo 1\n"
     ]
    },
    {
     "ename": "ZeroDivisionError",
     "evalue": "division by zero",
     "output_type": "error",
     "traceback": [
      "\u001b[31m---------------------------------------------------------------------------\u001b[39m",
      "\u001b[31mZeroDivisionError\u001b[39m                         Traceback (most recent call last)",
      "\u001b[36mCell\u001b[39m\u001b[36m \u001b[39m\u001b[32mIn[1]\u001b[39m\u001b[32m, line 2\u001b[39m\n\u001b[32m      1\u001b[39m \u001b[38;5;28mprint\u001b[39m (\u001b[33m\"\u001b[39m\u001b[33mInicio Ejemplo 1\u001b[39m\u001b[33m\"\u001b[39m)\n\u001b[32m----> \u001b[39m\u001b[32m2\u001b[39m x = \u001b[32;43m1\u001b[39;49m\u001b[43m \u001b[49m\u001b[43m/\u001b[49m\u001b[43m \u001b[49m\u001b[32;43m0\u001b[39;49m\n\u001b[32m      3\u001b[39m \u001b[38;5;28mprint\u001b[39m (x)\n\u001b[32m      4\u001b[39m \u001b[38;5;28mprint\u001b[39m (\u001b[33m\"\u001b[39m\u001b[33mFin Ejemplo 1\u001b[39m\u001b[33m\"\u001b[39m)\n",
      "\u001b[31mZeroDivisionError\u001b[39m: division by zero"
     ]
    }
   ],
   "source": [
    "print (\"Inicio Ejemplo 1\")\n",
    "x = 1 / 0\n",
    "print (x)\n",
    "print (\"Fin Ejemplo 1\")"
   ]
  },
  {
   "cell_type": "code",
   "execution_count": 2,
   "id": "2ceb79f6",
   "metadata": {},
   "outputs": [
    {
     "name": "stdout",
     "output_type": "stream",
     "text": [
      "Inicio Ejemplo 1\n",
      "💀 Error: division by zero <class 'ZeroDivisionError'>\n",
      "Fin Ejemplo 1\n"
     ]
    }
   ],
   "source": [
    "print (\"Inicio Ejemplo 1\")\n",
    "try:\n",
    "    x = 1 / 0\n",
    "    print (x)\n",
    "except Exception as e:\n",
    "    print(\"💀 Error:\", e, type(e))\n",
    "print (\"Fin Ejemplo 1\")"
   ]
  },
  {
   "cell_type": "markdown",
   "id": "07014b0b",
   "metadata": {},
   "source": [
    "Ejercicio 1, Crear un programa que solicite dos números y realice la división de ambos números Si hay un error mostrar un mensaje de error El programa se detiene si se ingresa \"salir\""
   ]
  },
  {
   "cell_type": "code",
   "execution_count": null,
   "id": "27db0682",
   "metadata": {},
   "outputs": [],
   "source": [
    "while True:\n",
    "    try:\n",
    "        num1 = input(\"Ingrese el primer número: \")\n",
    "        if num1 == \"salir\":\n",
    "            break\n",
    "        num2 = input(\"Ingrese el segundo número: \")\n",
    "        if num2 == \"salir\":\n",
    "            break\n",
    "        num1 = float(num1)\n",
    "        num2 = float(num2)\n",
    "        print(\"Resultado:\", num1 / num2)\n",
    "    except Exception as e:\n",
    "        print(\"💀 Error:\", e)"
   ]
  },
  {
   "cell_type": "markdown",
   "id": "7fdba823",
   "metadata": {},
   "source": [
    "### Tipos de excepciones\n",
    "\n",
    "Algunos tipos de excepciones son:\n",
    "\n",
    "- ZeroDivisionError: Se produce cuando se intenta dividir por cero\n",
    "- NameError: Se produce cuando no se encuentra una variable\n",
    "- TypeError: Se produce cuando se intenta realizar una operación no permitida\n",
    "- ValueError: Se produce cuando se intenta realizar una operación con un valor incorrecto\n",
    "- KeyError: Se produce cuando se intenta acceder a una clave que no existe en un diccionario\n",
    "- IndexError: Se produce cuando se intenta acceder a un índice que no existe en una lista\n",
    "\n",
    "### Excepciones múltiples\n",
    "\n",
    "try puede detectar un tipo de excepción específico y ejecutar un bloque de código diferente para cada tipo de excepción.\n",
    "\n",
    "Se debe poner un bloque except el tipo de excepción que se desea capturar con jerarquía de arriba hacía abajo.\n",
    "\n",
    "try:\n",
    "    # Código que puede lanzar una excepción\n",
    "except ZeroDivisionError as e:\n",
    "    # Código si se produce una excepción de división por cero\n",
    "except Exception as e:\n",
    "    # Código si se produce una excepción genérica\n",
    "\n",
    "Ejemplo 2, División por cero"
   ]
  },
  {
   "cell_type": "code",
   "execution_count": null,
   "id": "5ea858d5",
   "metadata": {},
   "outputs": [],
   "source": [
    "print (\"Inicio Ejemplo 2\")\n",
    "divisor = 0\n",
    "try:\n",
    "    x = 1 / divisor\n",
    "    print (x)\n",
    "except ZeroDivisionError as e:\n",
    "    print(\"0️⃣ Error:\", e, type(e))\n",
    "except Exception as e:\n",
    "    print(\"💀 Error:\", e, type(e))\n",
    "print (\"Fin Ejemplo 2\")"
   ]
  },
  {
   "cell_type": "markdown",
   "id": "a5124ee1",
   "metadata": {},
   "source": [
    "### Jerarquía de excepciones\n",
    "\n",
    "Ejemplo 2, División por cero"
   ]
  },
  {
   "cell_type": "code",
   "execution_count": null,
   "id": "396e097b",
   "metadata": {},
   "outputs": [],
   "source": [
    "print (\"Inicio Ejemplo 2\")\n",
    "divisor = 0\n",
    "try:\n",
    "    x = 1 / divisor\n",
    "    print (x)\n",
    "except Exception as e: # Captura cualquier excepción\n",
    "    print(\"💀 Error:\", e, type(e))\n",
    "except ZeroDivisionError as e:\n",
    "    print(\"0️⃣ Error:\", e, type(e))\n",
    "print (\"Fin Ejemplo 2\")"
   ]
  },
  {
   "cell_type": "markdown",
   "id": "68219ac6",
   "metadata": {},
   "source": [
    "Ejemplo 3, De la lista de calificaciones obtener el promedio"
   ]
  },
  {
   "cell_type": "code",
   "execution_count": 4,
   "id": "64f4f69f",
   "metadata": {},
   "outputs": [
    {
     "name": "stdout",
     "output_type": "stream",
     "text": [
      "🎭 Error: unsupported operand type(s) for +=: 'int' and 'str' <class 'TypeError'>\n"
     ]
    }
   ],
   "source": [
    "calificaciones = [20,40,80,\"A\"]\n",
    "suma = 0\n",
    "try:\n",
    "    for i in range(len(calificaciones)+1):\n",
    "        suma += calificaciones[i] \n",
    "    promedio = suma / len(calificaciones)\n",
    "    print(\"Promedio:\", promedio)\n",
    "except ZeroDivisionError as e:\n",
    "    print(\"0️⃣ Error:\", e, type(e))\n",
    "except TypeError as e:\n",
    "    print(\"🎭 Error:\", e, type(e))\n",
    "except Exception as e:\n",
    "    print(\"💀 Error:\", e, type(e))"
   ]
  },
  {
   "cell_type": "markdown",
   "id": "e932f718",
   "metadata": {},
   "source": [
    "Ejemplo 3, De la lista de calificaciones obtener el promedio"
   ]
  },
  {
   "cell_type": "code",
   "execution_count": 3,
   "id": "f9e43c41",
   "metadata": {},
   "outputs": [
    {
     "name": "stdout",
     "output_type": "stream",
     "text": [
      "💀 Error: list index out of range <class 'IndexError'>\n"
     ]
    }
   ],
   "source": [
    "calificaciones = [20,40,80]\n",
    "suma = 0\n",
    "try:\n",
    "    for i in range(len(calificaciones)+1):\n",
    "        suma += calificaciones[i]\n",
    "    promedio = suma / len(calificaciones)\n",
    "    print(\"Promedio:\", promedio)\n",
    "except ZeroDivisionError as e:\n",
    "    print(\"0️⃣ Error:\", e, type(e))\n",
    "except TypeError as e:\n",
    "    print(\"🎭 Error:\", e, type(e))\n",
    "except Exception as e: # Captura cualquier excepción\n",
    "    print(\"💀 Error:\", e, type(e))"
   ]
  },
  {
   "cell_type": "markdown",
   "id": "8633a630",
   "metadata": {},
   "source": [
    "Ejemplo 3, De la lista de calificaciones obtener el promedio"
   ]
  },
  {
   "cell_type": "code",
   "execution_count": 5,
   "id": "ba0529b1",
   "metadata": {},
   "outputs": [
    {
     "name": "stdout",
     "output_type": "stream",
     "text": [
      "Promedio: 46.666666666666664\n"
     ]
    }
   ],
   "source": [
    "calificaciones = [20,40,80]\n",
    "suma = 0\n",
    "try:\n",
    "    for i in range(len(calificaciones)):\n",
    "        suma += calificaciones[i] # suma = suma + calificaciones[i]\n",
    "    promedio = suma / len(calificaciones)\n",
    "    print(\"Promedio:\", promedio)\n",
    "except ZeroDivisionError as e:\n",
    "    print(\"0️⃣ Error:\", e, type(e))\n",
    "except TypeError as e:\n",
    "    print(\"🎭 Error:\", e, type(e))\n",
    "except Exception as e:\n",
    "    print(\"💀 Error:\", e, type(e))"
   ]
  },
  {
   "cell_type": "markdown",
   "id": "d44df8a2",
   "metadata": {},
   "source": [
    "### Bloque else\n",
    "\n",
    "Se puede agregar un bloque else que se ejecuta si no se produce ninguna excepción.\n",
    "\n",
    "Se debe poner después de todos los bloques except.\n",
    "\n",
    "Lo utilizamos validar la entrada de datos o para mostrar un mensaje de éxito.\n",
    "\n",
    "### Estructura de un bloque else\n",
    "\n",
    "try:\n",
    "    # Código que puede lanzar una excepción\n",
    "except Exception as e:\n",
    "    # Código si se produce una excepción\n",
    "else:\n",
    "    # Código si no se produce ninguna excepción\n",
    "\n",
    "Ejemplo 4, De la lista de calificaciones obtener el promedio"
   ]
  },
  {
   "cell_type": "code",
   "execution_count": 6,
   "id": "11c9cc8f",
   "metadata": {},
   "outputs": [
    {
     "name": "stdout",
     "output_type": "stream",
     "text": [
      "Inicio Ejemplo 4\n",
      "Promedio: 46.666666666666664\n",
      "🎉 Sin errores\n",
      "Fin Ejemplo 4\n"
     ]
    }
   ],
   "source": [
    "print (\"Inicio Ejemplo 4\")\n",
    "calificaciones = [20,40,80]\n",
    "suma = 0\n",
    "try:\n",
    "    for i in range(len(calificaciones)):\n",
    "        suma += calificaciones[i]\n",
    "    promedio = suma / len(calificaciones)\n",
    "    print(\"Promedio:\", promedio)\n",
    "except Exception as e:\n",
    "    print(\"💀 Error:\", e, type(e))\n",
    "else:\n",
    "    print (\"🎉 Sin errores\")\n",
    "print (\"Fin Ejemplo 4\")"
   ]
  },
  {
   "cell_type": "markdown",
   "id": "7a9584cd",
   "metadata": {},
   "source": [
    "Ejercicio 2, Crear un programa que solicite dos números y mediante una función devuelva la división de ambos.\n",
    "\n",
    "Si hay un error mostrar un mensaje de error. El programa se detiene si se ingresa \"salir\".\n",
    "\n",
    "Añadir un bloque else que muestre el resultado de la función."
   ]
  },
  {
   "cell_type": "code",
   "execution_count": 9,
   "id": "988d3205",
   "metadata": {},
   "outputs": [
    {
     "name": "stdout",
     "output_type": "stream",
     "text": [
      "🎉 Resultado:  1.0\n",
      "🎉 Resultado:  5.0\n",
      "💀 Error: could not convert string to float: 'DIEZ'\n",
      "💀 Error: float division by zero\n"
     ]
    },
    {
     "ename": "KeyboardInterrupt",
     "evalue": "Interrupted by user",
     "output_type": "error",
     "traceback": [
      "\u001b[31m---------------------------------------------------------------------------\u001b[39m",
      "\u001b[31mKeyboardInterrupt\u001b[39m                         Traceback (most recent call last)",
      "\u001b[36mCell\u001b[39m\u001b[36m \u001b[39m\u001b[32mIn[9]\u001b[39m\u001b[32m, line 9\u001b[39m\n\u001b[32m      7\u001b[39m \u001b[38;5;28;01mif\u001b[39;00m num1 == \u001b[33m\"\u001b[39m\u001b[33msalir\u001b[39m\u001b[33m\"\u001b[39m:\n\u001b[32m      8\u001b[39m     \u001b[38;5;28;01mbreak\u001b[39;00m\n\u001b[32m----> \u001b[39m\u001b[32m9\u001b[39m num2 = \u001b[38;5;28;43minput\u001b[39;49m\u001b[43m(\u001b[49m\u001b[33;43m\"\u001b[39;49m\u001b[33;43mIngrese el segundo número: \u001b[39;49m\u001b[33;43m\"\u001b[39;49m\u001b[43m)\u001b[49m\n\u001b[32m     10\u001b[39m \u001b[38;5;28;01mif\u001b[39;00m num2 == \u001b[33m\"\u001b[39m\u001b[33msalir\u001b[39m\u001b[33m\"\u001b[39m:\n\u001b[32m     11\u001b[39m     \u001b[38;5;28;01mbreak\u001b[39;00m\n",
      "\u001b[36mFile \u001b[39m\u001b[32md:\\Python312\\Lib\\site-packages\\ipykernel\\kernelbase.py:1282\u001b[39m, in \u001b[36mKernel.raw_input\u001b[39m\u001b[34m(self, prompt)\u001b[39m\n\u001b[32m   1280\u001b[39m     msg = \u001b[33m\"\u001b[39m\u001b[33mraw_input was called, but this frontend does not support input requests.\u001b[39m\u001b[33m\"\u001b[39m\n\u001b[32m   1281\u001b[39m     \u001b[38;5;28;01mraise\u001b[39;00m StdinNotImplementedError(msg)\n\u001b[32m-> \u001b[39m\u001b[32m1282\u001b[39m \u001b[38;5;28;01mreturn\u001b[39;00m \u001b[38;5;28;43mself\u001b[39;49m\u001b[43m.\u001b[49m\u001b[43m_input_request\u001b[49m\u001b[43m(\u001b[49m\n\u001b[32m   1283\u001b[39m \u001b[43m    \u001b[49m\u001b[38;5;28;43mstr\u001b[39;49m\u001b[43m(\u001b[49m\u001b[43mprompt\u001b[49m\u001b[43m)\u001b[49m\u001b[43m,\u001b[49m\n\u001b[32m   1284\u001b[39m \u001b[43m    \u001b[49m\u001b[38;5;28;43mself\u001b[39;49m\u001b[43m.\u001b[49m\u001b[43m_parent_ident\u001b[49m\u001b[43m[\u001b[49m\u001b[33;43m\"\u001b[39;49m\u001b[33;43mshell\u001b[39;49m\u001b[33;43m\"\u001b[39;49m\u001b[43m]\u001b[49m\u001b[43m,\u001b[49m\n\u001b[32m   1285\u001b[39m \u001b[43m    \u001b[49m\u001b[38;5;28;43mself\u001b[39;49m\u001b[43m.\u001b[49m\u001b[43mget_parent\u001b[49m\u001b[43m(\u001b[49m\u001b[33;43m\"\u001b[39;49m\u001b[33;43mshell\u001b[39;49m\u001b[33;43m\"\u001b[39;49m\u001b[43m)\u001b[49m\u001b[43m,\u001b[49m\n\u001b[32m   1286\u001b[39m \u001b[43m    \u001b[49m\u001b[43mpassword\u001b[49m\u001b[43m=\u001b[49m\u001b[38;5;28;43;01mFalse\u001b[39;49;00m\u001b[43m,\u001b[49m\n\u001b[32m   1287\u001b[39m \u001b[43m\u001b[49m\u001b[43m)\u001b[49m\n",
      "\u001b[36mFile \u001b[39m\u001b[32md:\\Python312\\Lib\\site-packages\\ipykernel\\kernelbase.py:1325\u001b[39m, in \u001b[36mKernel._input_request\u001b[39m\u001b[34m(self, prompt, ident, parent, password)\u001b[39m\n\u001b[32m   1322\u001b[39m \u001b[38;5;28;01mexcept\u001b[39;00m \u001b[38;5;167;01mKeyboardInterrupt\u001b[39;00m:\n\u001b[32m   1323\u001b[39m     \u001b[38;5;66;03m# re-raise KeyboardInterrupt, to truncate traceback\u001b[39;00m\n\u001b[32m   1324\u001b[39m     msg = \u001b[33m\"\u001b[39m\u001b[33mInterrupted by user\u001b[39m\u001b[33m\"\u001b[39m\n\u001b[32m-> \u001b[39m\u001b[32m1325\u001b[39m     \u001b[38;5;28;01mraise\u001b[39;00m \u001b[38;5;167;01mKeyboardInterrupt\u001b[39;00m(msg) \u001b[38;5;28;01mfrom\u001b[39;00m\u001b[38;5;250m \u001b[39m\u001b[38;5;28;01mNone\u001b[39;00m\n\u001b[32m   1326\u001b[39m \u001b[38;5;28;01mexcept\u001b[39;00m \u001b[38;5;167;01mException\u001b[39;00m:\n\u001b[32m   1327\u001b[39m     \u001b[38;5;28mself\u001b[39m.log.warning(\u001b[33m\"\u001b[39m\u001b[33mInvalid Message:\u001b[39m\u001b[33m\"\u001b[39m, exc_info=\u001b[38;5;28;01mTrue\u001b[39;00m)\n",
      "\u001b[31mKeyboardInterrupt\u001b[39m: Interrupted by user"
     ]
    }
   ],
   "source": [
    "def division(num1, num2):\n",
    "    return num1 / num2\n",
    "\n",
    "while True:\n",
    "    try:\n",
    "        num1 = input(\"Ingrese el primer número: \")\n",
    "        if num1 == \"salir\":\n",
    "            break\n",
    "        num2 = input(\"Ingrese el segundo número: \")\n",
    "        if num2 == \"salir\":\n",
    "            break\n",
    "        num1 = float(num1)\n",
    "        num2 = float(num2)\n",
    "        resultado = division(num1, num2)\n",
    "    except Exception as e:\n",
    "        print(\"💀 Error:\", e)\n",
    "    else:\n",
    "        print(\"🎉 Resultado: \",resultado)"
   ]
  },
  {
   "cell_type": "markdown",
   "id": "b1a0f9e8",
   "metadata": {},
   "source": [
    "### Bloque finally\n",
    "\n",
    "Se puede agregar un bloque finally que se ejecuta siempre, independientemente de si se produce una excepción.\n",
    "\n",
    "Se debe poner después de todos los bloques except y else.\n",
    "\n",
    "Se utiliza para liberar recursos o cerrar archivos.\n",
    "\n",
    "Para garantizar que se ejecute un código importante sin importar si se produce una excepción o no.\n",
    "\n",
    "### Estructura de un bloque finally\n",
    "\n",
    "try:\n",
    "    # Código que puede lanzar una excepción\n",
    "except Exception as e:\n",
    "    # Código si se produce una excepción\n",
    "else:\n",
    "    # Código si no se produce ninguna excepción\n",
    "finally:\n",
    "    # Código que se ejecuta siempre\n",
    "\n",
    "Ejemplo 5, Simula una conexión a internet que haga ping y cerrar la conexión"
   ]
  },
  {
   "cell_type": "code",
   "execution_count": 10,
   "id": "b78c9200",
   "metadata": {},
   "outputs": [
    {
     "name": "stdout",
     "output_type": "stream",
     "text": [
      "Inicio Ejemplo 5\n",
      "🔗 Ping...\n",
      "🎉 Ping Exitoso\n",
      "🔌 Cerrando conexión\n"
     ]
    }
   ],
   "source": [
    "print (\"Inicio Ejemplo 5\")\n",
    "try:\n",
    "    print(\"🔗 Ping...\")\n",
    "except Exception as e:\n",
    "    print(\"💀 Error:\", e)\n",
    "else:\n",
    "    print(\"🎉 Ping Exitoso\")\n",
    "finally:\n",
    "    print(\"🔌 Cerrando conexión\")\n"
   ]
  },
  {
   "cell_type": "markdown",
   "id": "362665cb",
   "metadata": {},
   "source": [
    "¿Cómo generamos una excepción?\n",
    "\n",
    "Para probar que finally se ejecuta siempre.\n",
    "\n",
    "### Raise\n",
    "\n",
    "raise se utiliza para generar una excepción.\n",
    "\n",
    "Se puede generar una excepción específica o una excepción genérica.\n",
    "\n",
    "### Estructura de raise\n",
    "\n",
    "raise Exception(\"Mensaje de error\")\n",
    "\n",
    "- raise es una palabra reservada de Python\n",
    "- Exception es el tipo de excepción que se desea generar\n",
    "- \"Mensaje de error\" es el mensaje que se mostrará\n",
    "\n",
    "Ejemplo 6, Simula una conexión a internet que haga ping y cerrar la conexión"
   ]
  },
  {
   "cell_type": "code",
   "execution_count": 11,
   "id": "6892c486",
   "metadata": {},
   "outputs": [
    {
     "name": "stdout",
     "output_type": "stream",
     "text": [
      "Inicio Ejemplo 6\n",
      "🔗 Ping...\n",
      "💀 Error: Error de conexión\n",
      "🔌 Cerrando conexión\n"
     ]
    }
   ],
   "source": [
    "print (\"Inicio Ejemplo 6\")\n",
    "try:\n",
    "    print(\"🔗 Ping...\")\n",
    "    raise Exception(\"Error de conexión\") #Excepción genérica\n",
    "except Exception as e: # Captura cualquier excepción\n",
    "    print(\"💀 Error:\", e)\n",
    "else:\n",
    "    print(\"🎉 Ping Exitoso\")\n",
    "finally:\n",
    "    print(\"🔌 Cerrando conexión\")"
   ]
  },
  {
   "cell_type": "markdown",
   "id": "fca019a7",
   "metadata": {},
   "source": [
    "Ejercicio 3, Escriba un programa que solicite un número por teclado y se almacene en una lista.\n",
    "\n",
    "- Si es 0 se genera una excepción\n",
    "- Si la ejecución es correcta muestra \"🎉Agregado\"\n",
    "- Termina la ejecución sólo con la palabra \"salir\" utilizar la excepción KeyboardInterrupt\n",
    "- Finalmente imprima siempre la suma de los números y la lista"
   ]
  },
  {
   "cell_type": "code",
   "execution_count": 14,
   "id": "7465277e",
   "metadata": {},
   "outputs": [
    {
     "name": "stdout",
     "output_type": "stream",
     "text": [
      "🎉 Número agregado\n",
      "Suma: 1.0 Lista: [1.0]\n",
      "🎉 Número agregado\n",
      "Suma: 3.0 Lista: [1.0, 2.0]\n",
      "🎉 Número agregado\n",
      "Suma: 6.0 Lista: [1.0, 2.0, 3.0]\n",
      "🎉 Número agregado\n",
      "Suma: 10.0 Lista: [1.0, 2.0, 3.0, 4.0]\n",
      "🎉 Número agregado\n",
      "Suma: 14.0 Lista: [1.0, 2.0, 3.0, 4.0, 4.0]\n",
      "Suma: 14.0 Lista: [1.0, 2.0, 3.0, 4.0, 4.0]\n"
     ]
    }
   ],
   "source": [
    "numeros = []\n",
    "while True:\n",
    "    try:\n",
    "        num = input(\"Ingrese un número: \")\n",
    "        if num == \"salir\":\n",
    "            break\n",
    "        num = float(num)\n",
    "        if num == 0:\n",
    "            raise Exception(\"No se puede agregar el número 0\")\n",
    "        numeros.append(num)\n",
    "    except KeyboardInterrupt as e:\n",
    "        print('🚫 Para salir escriba \"salir\"')\n",
    "    except Exception as e:\n",
    "        print(\"💀 Error:\", e)\n",
    "    else:\n",
    "        print(\"🎉 Número agregado\")\n",
    "    finally:\n",
    "        print(\"Suma:\", sum(numeros), \"Lista:\", numeros)"
   ]
  },
  {
   "cell_type": "markdown",
   "id": "ab025875",
   "metadata": {},
   "source": [
    "### Pass\n",
    "\n",
    "pass es una palabra reservada de Python que no hace nada.\n",
    "\n",
    "Se utiliza para evitar errores de sintaxis.\n",
    "\n",
    "Se puede utilizar para evitar errores de indentación.\n",
    "\n",
    "Ejemplo 7, Crea una función que no hace nada"
   ]
  },
  {
   "cell_type": "code",
   "execution_count": 15,
   "id": "fd128cd5",
   "metadata": {},
   "outputs": [
    {
     "name": "stdout",
     "output_type": "stream",
     "text": [
      "Inicio Ejemplo 7\n",
      "Fin Ejemplo 7\n"
     ]
    }
   ],
   "source": [
    "print(\"Inicio Ejemplo 7\")\n",
    "def funcion():\n",
    "    pass\n",
    "\n",
    "funcion()\n",
    "print(\"Fin Ejemplo 7\")"
   ]
  },
  {
   "cell_type": "markdown",
   "id": "05a4a728",
   "metadata": {},
   "source": [
    "### Excepciones personalizadas\n",
    "\n",
    "Se pueden crear excepciones personalizadas.\n",
    "\n",
    "Nos permite crear excepciones específicas para nuestro programa.\n",
    "\n",
    "Se utiliza para crear excepciones de acuerdo a las necesidades del programa.\n",
    "\n",
    "### Estructura de una excepción personalizada\n",
    "\n",
    "class MiError(Exception):\n",
    "    pass\n",
    "\n",
    "raise MiError(\"Mensaje de error\")\n",
    "\n",
    "- class: palabra reservada de Python para crear una clase\n",
    "- MiError (Exception): nombre de la clase y la excepción de la que hereda\n",
    "- pass: palabra reservada de Python para indicar que no hace nada\n",
    "\n",
    "Ejemplo 8, Tienes un frutero, saca las frutas mientras no sea un gusano y genera una excepción."
   ]
  },
  {
   "cell_type": "code",
   "execution_count": 16,
   "id": "721b39d2",
   "metadata": {},
   "outputs": [
    {
     "name": "stdout",
     "output_type": "stream",
     "text": [
      "Inicio Ejemplo 8\n",
      "🍎\n",
      "🍌\n",
      "🍐\n",
      "🐛 Error: 😱 Ewww!\n",
      "🍇\n",
      "Fin Ejemplo 8\n"
     ]
    }
   ],
   "source": [
    "print(\"Inicio Ejemplo 8\")\n",
    "class GusanoError(Exception):\n",
    "    pass\n",
    " \n",
    "frutero = ['🍎', '🍌', '🍐', '🐛', '🍇']\n",
    "for fruta in frutero:\n",
    "    try:\n",
    "        if fruta == '🐛':\n",
    "            raise GusanoError(\"😱 Ewww!\")\n",
    "        print(fruta)\n",
    "    except GusanoError as e:\n",
    "        print(\"🐛 Error:\", e)\n",
    "    except Exception as e:\n",
    "        print(\"💀 Error:\", e)\n",
    "print(\"Fin Ejemplo 8\")"
   ]
  },
  {
   "cell_type": "markdown",
   "id": "b528d0b9",
   "metadata": {},
   "source": [
    "Ejercicio 4, Crear un programa que solicite palabras por teclado y almacene en una lista.\n",
    "\n",
    "- Si se inserta caracteres no alfabéticos se genera una excepción personalizada y no se almacena.\n",
    "- Si se ingresa \"salir\" se termina la ejecución\n",
    "- Mostrar el mensaje \"🎉 Palabra agregada\" si no hay errores.\n",
    "- Finalmente imprimir la lista de palabras."
   ]
  },
  {
   "cell_type": "code",
   "execution_count": 17,
   "id": "c00d4942",
   "metadata": {},
   "outputs": [
    {
     "name": "stdout",
     "output_type": "stream",
     "text": [
      "🎉 Palabra agregada\n",
      "Lista: ['uno']\n",
      "🎉 Palabra agregada\n",
      "Lista: ['uno', 'dos']\n",
      "🎉 Palabra agregada\n",
      "Lista: ['uno', 'dos', 'tres']\n",
      "🚫 Error: Solo se permiten letras\n",
      "Lista: ['uno', 'dos', 'tres']\n",
      "Lista: ['uno', 'dos', 'tres']\n"
     ]
    }
   ],
   "source": [
    "class NoAlfabeticoError(Exception):\n",
    "    pass\n",
    "\n",
    "palabras = []\n",
    "while True:\n",
    "    try:\n",
    "        palabra = input(\"Ingrese una palabra: \")\n",
    "        if palabra == \"salir\":\n",
    "            break\n",
    "        if not palabra.isalpha():\n",
    "            raise NoAlfabeticoError(\"Solo se permiten letras\")\n",
    "        palabras.append(palabra)\n",
    "    except NoAlfabeticoError as e:\n",
    "        print(\"🚫 Error:\", e)\n",
    "    except Exception as e:\n",
    "        print(\"💀 Error:\", e)\n",
    "    else:\n",
    "        print(\"🎉 Palabra agregada\")\n",
    "    finally:\n",
    "        print(\"Lista:\", palabras)"
   ]
  }
 ],
 "metadata": {
  "kernelspec": {
   "display_name": "Python 3",
   "language": "python",
   "name": "python3"
  },
  "language_info": {
   "codemirror_mode": {
    "name": "ipython",
    "version": 3
   },
   "file_extension": ".py",
   "mimetype": "text/x-python",
   "name": "python",
   "nbconvert_exporter": "python",
   "pygments_lexer": "ipython3",
   "version": "3.12.1"
  }
 },
 "nbformat": 4,
 "nbformat_minor": 5
}
