{
 "cells": [
  {
   "cell_type": "markdown",
   "id": "ce834e96",
   "metadata": {},
   "source": [
    "# Sesión 05\n",
    "\n",
    "## Tipos de datos"
   ]
  },
  {
   "cell_type": "code",
   "execution_count": 1,
   "id": "b2c35024",
   "metadata": {},
   "outputs": [
    {
     "name": "stdout",
     "output_type": "stream",
     "text": [
      "<class 'int'>\n",
      "10\n",
      "<class 'int'>\n"
     ]
    }
   ],
   "source": [
    "print(type(1))\n",
    "print(10)\n",
    "print(type(10))"
   ]
  },
  {
   "cell_type": "markdown",
   "id": "905abbd2",
   "metadata": {},
   "source": [
    "## Números Enteros"
   ]
  },
  {
   "cell_type": "code",
   "execution_count": 2,
   "id": "7bf79cfa",
   "metadata": {},
   "outputs": [
    {
     "name": "stdout",
     "output_type": "stream",
     "text": [
      "100\n",
      "<class 'int'>\n",
      "20\n",
      "<class 'int'>\n"
     ]
    }
   ],
   "source": [
    "# Variable 100 entero\n",
    "variable = 100\n",
    "print(variable)\n",
    "print(type(variable))\n",
    "\n",
    "# Variable 20 entero\n",
    "variable_2 = int(20.0)\n",
    "print(variable_2)\n",
    "print(type(variable_2))"
   ]
  },
  {
   "cell_type": "markdown",
   "id": "69b1deb0",
   "metadata": {},
   "source": [
    "### Generando números enteros en otras bases numéricas"
   ]
  },
  {
   "cell_type": "code",
   "execution_count": null,
   "id": "d2a11aed",
   "metadata": {},
   "outputs": [],
   "source": [
    "print (\"Base decimal\")\n",
    "print (10)\n",
    "# Valor 10 en binario\n",
    "print (\"Base binaria\")\n",
    "print (0b1010)\n",
    "print (bin(0b1010))\n",
    "# Valor 10 en octal\n",
    "print (\"Base octal\")\n",
    "print (0o12)\n",
    "print (oct(0o12))\n",
    "# Valor 10 en hexadecimal\n",
    "print (\"Base hexadecimal\")\n",
    "print (0xa)"
   ]
  },
  {
   "cell_type": "markdown",
   "id": "e529dc4a",
   "metadata": {},
   "source": [
    "### Enteros grandes"
   ]
  },
  {
   "cell_type": "code",
   "execution_count": null,
   "id": "50d2e7ca",
   "metadata": {},
   "outputs": [],
   "source": [
    "variable_3 = 123456789012345678901234567890123456789012345678901234567890\n",
    "print (variable_3)\n",
    "print (type (variable_3))"
   ]
  },
  {
   "cell_type": "markdown",
   "id": "eae3b284",
   "metadata": {},
   "source": [
    "## Números con punto flotante"
   ]
  },
  {
   "cell_type": "code",
   "execution_count": null,
   "id": "589d3c8f",
   "metadata": {},
   "outputs": [],
   "source": [
    "print (0.5)\n",
    "print ( type (0.5) )\n",
    "\n",
    "variable_4 = 0.100546\n",
    "print (variable_4)\n",
    "print ( type (variable_4) )\n",
    "\n",
    "variable_7 = float (1)\n",
    "print(variable_7)\n",
    "print ( type (variable_7) )\n",
    "\n",
    "variable_6 = 2.0e-3\n",
    "print(variable_6)\n",
    "print ( type (variable_6) )\n",
    "\n",
    "variable_5 = 0.9999999999999999\n",
    "print(variable_5)\n",
    "print ( type (variable_5) )"
   ]
  },
  {
   "cell_type": "markdown",
   "id": "7e6bf97e",
   "metadata": {},
   "source": [
    "## Operadores aritméticos"
   ]
  },
  {
   "cell_type": "code",
   "execution_count": null,
   "id": "4bf6ffcb",
   "metadata": {},
   "outputs": [],
   "source": [
    "a = 10\n",
    "b = 3\n",
    "# Suma\n",
    "print (\"Suma\")\n",
    "print (a + b)\n",
    "# Resta\n",
    "print (\"Resta\")\n",
    "print (a - b)\n",
    "# Multiplicación\n",
    "print (\"Multiplicación\")\n",
    "print (a * b)\n",
    "# División\n",
    "print (\"División\")\n",
    "print (a / b)\n",
    "# Potencia\n",
    "print (\"Potencia\")\n",
    "print (a ** b)\n",
    "# Módulo o residuo\n",
    "print (\"Módulo o residuo\")\n",
    "print (a % b)\n",
    "# División entera\n",
    "print (\"División entera\")\n",
    "print (a // b)\n",
    "\n",
    "m = 300\n",
    "s = 3600\n",
    "\n",
    "h = m/60 + s/60/60\n",
    "\n",
    "print (h)"
   ]
  },
  {
   "cell_type": "markdown",
   "id": "f0dfe3b8",
   "metadata": {},
   "source": [
    "## Operadores de comparación"
   ]
  },
  {
   "cell_type": "code",
   "execution_count": null,
   "id": "c94eae76",
   "metadata": {},
   "outputs": [],
   "source": [
    "print (\"Operadores de comparación\")\n",
    "comparar = 10\n",
    "print (comparar < 10)\n",
    "print (comparar > 10)\n",
    "print (comparar == 10)\n",
    "print (comparar <= 10)\n",
    "print (comparar >= 10)\n",
    "print (comparar != 10)\n",
    "\n",
    "comparar = 10.01\n",
    "print (comparar < 10)\n",
    "print (comparar > 10)\n",
    "print (comparar == 10)\n",
    "print (comparar <= 10)\n",
    "print (comparar >= 10)\n",
    "print (comparar != 10)\n",
    "\n",
    "print (\"Operadores de comparación con int - float\")\n",
    "entero = 12\n",
    "flotante = 12.0\n",
    "print (entero < flotante)\n",
    "print (entero > flotante)\n",
    "print (entero == flotante)\n",
    "print (entero <= flotante)\n",
    "print (entero >= flotante)\n",
    "print (entero != flotante)"
   ]
  }
 ],
 "metadata": {
  "kernelspec": {
   "display_name": "Python 3",
   "language": "python",
   "name": "python3"
  },
  "language_info": {
   "codemirror_mode": {
    "name": "ipython",
    "version": 3
   },
   "file_extension": ".py",
   "mimetype": "text/x-python",
   "name": "python",
   "nbconvert_exporter": "python",
   "pygments_lexer": "ipython3",
   "version": "3.12.1"
  }
 },
 "nbformat": 4,
 "nbformat_minor": 5
}
