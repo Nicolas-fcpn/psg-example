{
 "cells": [
  {
   "cell_type": "code",
   "execution_count": 3,
   "id": "67c6f900",
   "metadata": {},
   "outputs": [
    {
     "name": "stdout",
     "output_type": "stream",
     "text": [
      "Hola, Mundo desde Notebook!\n"
     ]
    }
   ],
   "source": [
    "# Code 01\n",
    "print(\"Hola, Mundo desde Notebook!\")"
   ]
  },
  {
   "cell_type": "code",
   "execution_count": null,
   "id": "231cd4e0",
   "metadata": {},
   "outputs": [
    {
     "name": "stdout",
     "output_type": "stream",
     "text": [
      "   *   \n",
      "  ***  \n",
      " ***** \n",
      "*******\n",
      "   |   \n"
     ]
    }
   ],
   "source": [
    "# Tree\n",
    "print(\"   *   \")\n",
    "print(\"  ***  \")\n",
    "print(\" ***** \")\n",
    "print(\"*******\")\n",
    "print(\"   |   \")"
   ]
  },
  {
   "cell_type": "markdown",
   "id": "f3c490a3",
   "metadata": {},
   "source": [
    "# Sesión 04\n",
    "- Mi primer notebook\n",
    "- Imprimir árbol\n",
    "- Crear Markdown\n",
    "- Subir a mi repositorio de GitHub\n",
    "\n",
    "## tree"
   ]
  }
 ],
 "metadata": {
  "kernelspec": {
   "display_name": "Python 3",
   "language": "python",
   "name": "python3"
  },
  "language_info": {
   "codemirror_mode": {
    "name": "ipython",
    "version": 3
   },
   "file_extension": ".py",
   "mimetype": "text/x-python",
   "name": "python",
   "nbconvert_exporter": "python",
   "pygments_lexer": "ipython3",
   "version": "3.12.1"
  }
 },
 "nbformat": 4,
 "nbformat_minor": 5
}
