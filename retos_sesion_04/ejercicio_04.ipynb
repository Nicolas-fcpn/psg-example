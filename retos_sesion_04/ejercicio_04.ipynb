{
 "cells": [
  {
   "cell_type": "markdown",
   "id": "c26d7a26",
   "metadata": {},
   "source": [
    "# Juego del solitario\n",
    "\n",
    "## Descripción\n",
    "\n",
    "Es un juego de razonamiento para una sola persona. El objetivo del juego es remover todas las fichas siguiendo unas reglas específicas y dejar una sola ficha  en el centro del tablero para ganar."
   ]
  },
  {
   "cell_type": "markdown",
   "id": "fadd5004",
   "metadata": {},
   "source": [
    "## Reglas\n",
    "\n",
    "1. Hay 32 fichas idénticas en el juego, las cuales se disponen en un tablero que tiene 33 casillas.\n",
    "2. La casilla que está al centro del tablero se deja libre.\n",
    "3. Las fichas sólo se pueden mover saltando encima de otra ficha y cayendo en una casilla libre.  \n",
    "4. Cada vez que una ficha salta encima de otra, la ficha sobre la que se saltó se remueve del tablero.\n",
    "5. Una ficha sólo puede saltar hacia arriba, abajo, izquierda o derecha. No se permiten saltos en diagonal.\n",
    "6. Si el jugador se queda sin movimientos (las fichas quedan en una posición que ya no permite hacer más saltos), el juego termina.\n",
    "7. Para ganar el juego, el último salto debe dejar la última ficha en el centro del tablero. "
   ]
  },
  {
   "cell_type": "code",
   "execution_count": null,
   "id": "f1f6b1f2",
   "metadata": {},
   "outputs": [
    {
     "name": "stdout",
     "output_type": "stream",
     "text": [
      "        +++++++++++++\n",
      "        +   +   +   +\n",
      "        +++++++++++++\n",
      "        +   +   +   +\n",
      "+++++++++++++++++++++++++++++\n",
      "+   +   +   +   +   +   +   +\n",
      "+++++++++++++++++++++++++++++\n",
      "+   +   +   +   +   +   +   +\n",
      "+++++++++++++++++++++++++++++\n",
      "+   +   +   +   +   +   +   +\n",
      "+++++++++++++++++++++++++++++\n",
      "        +   +   +   +\n",
      "        +++++++++++++\n",
      "        +   +   +   +\n",
      "        +++++++++++++\n"
     ]
    }
   ],
   "source": [
    "print(\"        +++++++++++++\")\n",
    "print(\"        +   +   +   +\")\n",
    "print(\"        +++++++++++++\")\n",
    "print(\"        +   +   +   +\")\n",
    "print(\"+++++++++++++++++++++++++++++\")\n",
    "print(\"+   +   +   +   +   +   +   +\")\n",
    "print(\"+++++++++++++++++++++++++++++\")\n",
    "print(\"+   +   +   +   +   +   +   +\")\n",
    "print(\"+++++++++++++++++++++++++++++\")\n",
    "print(\"+   +   +   +   +   +   +   +\")\n",
    "print(\"+++++++++++++++++++++++++++++\")\n",
    "print(\"        +   +   +   +\")\n",
    "print(\"        +++++++++++++\")\n",
    "print(\"        +   +   +   +\")\n",
    "print(\"        +++++++++++++\")"
   ]
  },
  {
   "cell_type": "markdown",
   "id": "98a298a9",
   "metadata": {},
   "source": [
    "## Piezas\n",
    "\n",
    "Las piezas son 32 fichas idénticas. "
   ]
  },
  {
   "cell_type": "code",
   "execution_count": 15,
   "id": "43063687",
   "metadata": {},
   "outputs": [
    {
     "name": "stdout",
     "output_type": "stream",
     "text": [
      "O\n"
     ]
    }
   ],
   "source": [
    "print(\"O\")"
   ]
  },
  {
   "cell_type": "markdown",
   "id": "26fc6b5c",
   "metadata": {},
   "source": [
    "Disposición inicial del tablero con las fichas:"
   ]
  },
  {
   "cell_type": "code",
   "execution_count": null,
   "id": "7b9aa7e8",
   "metadata": {},
   "outputs": [],
   "source": [
    "print(\"        +++++++++++++\")\n",
    "print(\"        + O + O + O +\")\n",
    "print(\"        +++++++++++++\")\n",
    "print(\"        + O + O + O +\")\n",
    "print(\"+++++++++++++++++++++++++++++\")\n",
    "print(\"+ O + O + O + O + O + O + O +\")\n",
    "print(\"+++++++++++++++++++++++++++++\")\n",
    "print(\"+ O + O + O +   + O + O + O +\")\n",
    "print(\"+++++++++++++++++++++++++++++\")\n",
    "print(\"+ O + O + O + O + O + O + O +\")\n",
    "print(\"+++++++++++++++++++++++++++++\")\n",
    "print(\"        + O + O + O +\")\n",
    "print(\"        +++++++++++++\")\n",
    "print(\"        + O + O + O +\")\n",
    "print(\"        +++++++++++++\")"
   ]
  },
  {
   "cell_type": "markdown",
   "id": "d952202c",
   "metadata": {},
   "source": [
    "Disposición final ganadora."
   ]
  },
  {
   "cell_type": "code",
   "execution_count": null,
   "id": "d6c1f083",
   "metadata": {},
   "outputs": [],
   "source": [
    "print(\"        +++++++++++++\")\n",
    "print(\"        +   +   +   +\")\n",
    "print(\"        +++++++++++++\")\n",
    "print(\"        +   +   +   +\")\n",
    "print(\"+++++++++++++++++++++++++++++\")\n",
    "print(\"+   +   +   +   +   +   +   +\")\n",
    "print(\"+++++++++++++++++++++++++++++\")\n",
    "print(\"+   +   +   + O +   +   +   +\")\n",
    "print(\"+++++++++++++++++++++++++++++\")\n",
    "print(\"+   +   +   +   +   +   +   +\")\n",
    "print(\"+++++++++++++++++++++++++++++\")\n",
    "print(\"        +   +   +   +\")\n",
    "print(\"        +++++++++++++\")\n",
    "print(\"        +   +   +   +\")\n",
    "print(\"        +++++++++++++\")"
   ]
  }
 ],
 "metadata": {
  "kernelspec": {
   "display_name": "Python 3",
   "language": "python",
   "name": "python3"
  },
  "language_info": {
   "codemirror_mode": {
    "name": "ipython",
    "version": 3
   },
   "file_extension": ".py",
   "mimetype": "text/x-python",
   "name": "python",
   "nbconvert_exporter": "python",
   "pygments_lexer": "ipython3",
   "version": "3.12.1"
  }
 },
 "nbformat": 4,
 "nbformat_minor": 5
}
