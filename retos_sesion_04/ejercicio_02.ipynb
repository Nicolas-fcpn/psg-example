{
 "cells": [
  {
   "cell_type": "markdown",
   "id": "c9c3fb6d",
   "metadata": {},
   "source": [
    "# Ejercicio 02\n",
    "\n",
    "Imagen utilizando símbolos y prints\n",
    "Símbolos: * , () \\ | / o \" ' = C"
   ]
  },
  {
   "cell_type": "code",
   "execution_count": 12,
   "id": "919d3a6e",
   "metadata": {},
   "outputs": [
    {
     "name": "stdout",
     "output_type": "stream",
     "text": [
      " (())(()\n",
      " (=*o*=)\n",
      "(,,)  (,,)\n",
      " (     )\n",
      "(,,)  (,,)\n"
     ]
    }
   ],
   "source": [
    "print(\" (())(()\")\n",
    "print(\" (=*o*=)\")\n",
    "print(\"(,,)  (,,)\")\n",
    "print(\" (     )\")\n",
    "print(\"(,,)  (,,)\")"
   ]
  }
 ],
 "metadata": {
  "kernelspec": {
   "display_name": "Python 3",
   "language": "python",
   "name": "python3"
  },
  "language_info": {
   "codemirror_mode": {
    "name": "ipython",
    "version": 3
   },
   "file_extension": ".py",
   "mimetype": "text/x-python",
   "name": "python",
   "nbconvert_exporter": "python",
   "pygments_lexer": "ipython3",
   "version": "3.12.1"
  }
 },
 "nbformat": 4,
 "nbformat_minor": 5
}
