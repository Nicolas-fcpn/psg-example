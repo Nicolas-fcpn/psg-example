{
 "cells": [
  {
   "cell_type": "markdown",
   "id": "512396c2",
   "metadata": {},
   "source": [
    "# Sesión 09\n",
    "\n",
    "## Estructuras de datos\n",
    "\n",
    "## Listas\n",
    "\n",
    "### ¿Que es una lista?\n",
    "\n",
    "Una lista es una estructura de datos, así como una tupla y una cadena es una secuencia de valores\n",
    "\n",
    "Al igual que la tupla almacena objetos o items que pueden ser de cualquier tipo\n",
    "\n",
    "Una lista es una secuencia de objetos MUTABLES\n",
    "\n",
    "Ordenados e indexados\n",
    "\n",
    "* **Mutable**: Los elementos de una lista pueden ser modificados después de su creación"
   ]
  },
  {
   "cell_type": "code",
   "execution_count": 2,
   "id": "3809a161",
   "metadata": {},
   "outputs": [
    {
     "name": "stdout",
     "output_type": "stream",
     "text": [
      "[4, 2, 3]\n"
     ]
    }
   ],
   "source": [
    "lista = [1,2,3]\n",
    "lista[0] = 4 \n",
    "print (lista) # [4,2,3]"
   ]
  },
  {
   "cell_type": "markdown",
   "id": "2c749f00",
   "metadata": {},
   "source": [
    "* **Ordenada**: Los elementos tienen un orden definido y no cambian a no ser que sean reordenados explícitamente modificando la lista"
   ]
  },
  {
   "cell_type": "code",
   "execution_count": 3,
   "id": "f9bc46d5",
   "metadata": {},
   "outputs": [
    {
     "name": "stdout",
     "output_type": "stream",
     "text": [
      "False\n"
     ]
    }
   ],
   "source": [
    "lista1 = [1,2,3]\n",
    "lista2 = [3,2,1]\n",
    "print (lista1 == lista2) # False"
   ]
  },
  {
   "cell_type": "markdown",
   "id": "2e3ba50f",
   "metadata": {},
   "source": [
    "* **Indexada**: Cada elemento tiene un índice asociado a su posición en la lista para acceder a él"
   ]
  },
  {
   "cell_type": "code",
   "execution_count": 4,
   "id": "b5dd9032",
   "metadata": {},
   "outputs": [
    {
     "data": {
      "text/plain": [
       "3"
      ]
     },
     "execution_count": 4,
     "metadata": {},
     "output_type": "execute_result"
    }
   ],
   "source": [
    "lista = [1,2,3]\n",
    "lista[0] # 1\n",
    "lista[1] # 2\n",
    "lista[2] # 3"
   ]
  },
  {
   "cell_type": "markdown",
   "id": "e7b804d7",
   "metadata": {},
   "source": [
    "### Lista de enteros"
   ]
  },
  {
   "cell_type": "code",
   "execution_count": 5,
   "id": "912ecd64",
   "metadata": {},
   "outputs": [
    {
     "name": "stdout",
     "output_type": "stream",
     "text": [
      "Lista de enteros\n",
      "[1, 2, 3, 4, 5]\n"
     ]
    }
   ],
   "source": [
    "print (\"Lista de enteros\")\n",
    "mi_lista = [1,2,3,4,5]\n",
    "print (mi_lista)"
   ]
  },
  {
   "cell_type": "markdown",
   "id": "e4d26e4f",
   "metadata": {},
   "source": [
    "### Lista de cadenas"
   ]
  },
  {
   "cell_type": "code",
   "execution_count": 6,
   "id": "f15b09a5",
   "metadata": {},
   "outputs": [
    {
     "name": "stdout",
     "output_type": "stream",
     "text": [
      "Lista de cadenas\n",
      "['hola', 'mundo', 'python']\n"
     ]
    }
   ],
   "source": [
    "print (\"Lista de cadenas\")\n",
    "mi_lista = [\"hola\", \"mundo\", \"python\"]\n",
    "print (mi_lista)"
   ]
  },
  {
   "cell_type": "markdown",
   "id": "4b0e70a2",
   "metadata": {},
   "source": [
    "### Lista mixta"
   ]
  },
  {
   "cell_type": "code",
   "execution_count": 7,
   "id": "da9df56a",
   "metadata": {},
   "outputs": [
    {
     "name": "stdout",
     "output_type": "stream",
     "text": [
      "Lista mixta\n",
      "[1, 'hola', 3.14, 'mundo', 5]\n"
     ]
    }
   ],
   "source": [
    "print (\"Lista mixta\")\n",
    "mi_lista = [1, \"hola\", 3.14, \"mundo\", 5]\n",
    "print (mi_lista)"
   ]
  },
  {
   "cell_type": "markdown",
   "id": "c9eb299b",
   "metadata": {},
   "source": [
    "### Lista vacía"
   ]
  },
  {
   "cell_type": "code",
   "execution_count": 8,
   "id": "eb6e8040",
   "metadata": {},
   "outputs": [
    {
     "name": "stdout",
     "output_type": "stream",
     "text": [
      "Lista vacía\n",
      "[]\n"
     ]
    }
   ],
   "source": [
    "print (\"Lista vacía\")\n",
    "mi_lista = []\n",
    "print (mi_lista)"
   ]
  },
  {
   "cell_type": "markdown",
   "id": "e244fadf",
   "metadata": {},
   "source": [
    "Se usa la función list() para crear una lista a partir de una secuencia\n",
    "\n",
    "Su utilidad es convertir una tupla, cadena o conjunto en una lista\n",
    "\n",
    "### Lista a partir de una cadena"
   ]
  },
  {
   "cell_type": "code",
   "execution_count": 9,
   "id": "566c174b",
   "metadata": {},
   "outputs": [
    {
     "name": "stdout",
     "output_type": "stream",
     "text": [
      "Lista a partir de una cadena\n",
      "['h', 'o', 'l', 'a', ' ', 'm', 'u', 'n', 'd', 'o']\n"
     ]
    }
   ],
   "source": [
    "print (\"Lista a partir de una cadena\")\n",
    "mi_lista = list(\"hola mundo\")\n",
    "print (mi_lista)"
   ]
  },
  {
   "cell_type": "markdown",
   "id": "3e6a7267",
   "metadata": {},
   "source": [
    "### Lista a partir de una tupla"
   ]
  },
  {
   "cell_type": "code",
   "execution_count": 10,
   "id": "d3638d0f",
   "metadata": {},
   "outputs": [
    {
     "name": "stdout",
     "output_type": "stream",
     "text": [
      "Lista a partir de una tupla\n",
      "(1, 2, 3, 4, 5)\n",
      "[1, 2, 3, 4, 5]\n"
     ]
    }
   ],
   "source": [
    "print (\"Lista a partir de una tupla\")\n",
    "mi_tupla = (1,2,3,4,5)\n",
    "print (mi_tupla)\n",
    "mi_lista = list(mi_tupla)\n",
    "print (mi_lista)"
   ]
  },
  {
   "cell_type": "markdown",
   "id": "625bc917",
   "metadata": {},
   "source": [
    "Una lista por comprensión es una forma de crear listas a partir de una expresión o secuencia\n",
    "\n",
    "Es una forma más compacta y eficiente de crear listas"
   ]
  },
  {
   "cell_type": "code",
   "execution_count": 11,
   "id": "a9683319",
   "metadata": {},
   "outputs": [
    {
     "name": "stdout",
     "output_type": "stream",
     "text": [
      "Lista por comprensión\n",
      "[0, 1, 2, 3, 4, 5, 6, 7, 8, 9]\n"
     ]
    }
   ],
   "source": [
    "print (\"Lista por comprensión\")\n",
    "mi_lista = [x for x in range(10)]\n",
    "print (mi_lista)"
   ]
  },
  {
   "cell_type": "markdown",
   "id": "80c4c08b",
   "metadata": {},
   "source": [
    "### Indexación y slicing\n",
    "\n",
    "Se puede acceder a los diferentes valores de la lista utilizando indexación\n",
    "\n",
    "Obtener solo una parte de la lista utilizando slicing\n",
    "\n",
    "Similar a las cadenas de texto y tuplas\n",
    "\n",
    "Se accede a los elementos de la lista de forma positiva de izquierda a derecha\n",
    "\n",
    "Empezando en el índice 0\n",
    "\n",
    "Hasta la longitud-1 de la lista\n",
    "\n",
    "Acceso utilizando índices positivos"
   ]
  },
  {
   "cell_type": "code",
   "execution_count": 12,
   "id": "b970a906",
   "metadata": {},
   "outputs": [
    {
     "name": "stdout",
     "output_type": "stream",
     "text": [
      "Indexación positivo de una lista\n",
      "1 <class 'int'>\n",
      "hola <class 'str'>\n",
      "3.14 <class 'float'>\n",
      "(1, 2) <class 'tuple'>\n"
     ]
    }
   ],
   "source": [
    "print (\"Indexación positivo de una lista\")\n",
    "lista = [1, \"hola\", 3.14, (1,2)]\n",
    "print (lista[0], type(lista[0])) \n",
    "print (lista[1], type(lista[1])) \n",
    "print (lista[2], type(lista[2])) \n",
    "print (lista[3], type(lista[3])) "
   ]
  },
  {
   "cell_type": "markdown",
   "id": "a466d64d",
   "metadata": {},
   "source": [
    "Se accede a los elementos de la lista de forma negativa de derecha a izquierda\n",
    "\n",
    "Empezando en el índice -1\n",
    "\n",
    "Hasta la -longitud de la lista\n",
    "\n",
    "Acceso utilizando índices negativos"
   ]
  },
  {
   "cell_type": "code",
   "execution_count": 13,
   "id": "b2948a19",
   "metadata": {},
   "outputs": [
    {
     "name": "stdout",
     "output_type": "stream",
     "text": [
      "Indexación negativo de una lista\n",
      "(1, 2) <class 'tuple'>\n",
      "3.14 <class 'float'>\n",
      "hola <class 'str'>\n",
      "1 <class 'int'>\n"
     ]
    }
   ],
   "source": [
    "print (\"Indexación negativo de una lista\")\n",
    "lista = [1, \"hola\", 3.14, (1,2)]\n",
    "print (lista[-1], type(lista[-1]))\n",
    "print (lista[-2], type(lista[-2]))\n",
    "print (lista[-3], type(lista[-3]))\n",
    "print (lista[-4], type(lista[-4]))"
   ]
  },
  {
   "cell_type": "markdown",
   "id": "51a2a141",
   "metadata": {},
   "source": [
    "La indexación no se limita a obtener los valores de la lista\n",
    "\n",
    "También se puede modificar los valores de la lista original utilizando la indexación"
   ]
  },
  {
   "cell_type": "code",
   "execution_count": 14,
   "id": "4a50ff0d",
   "metadata": {},
   "outputs": [
    {
     "name": "stdout",
     "output_type": "stream",
     "text": [
      "Modificación de una lista\n",
      "[1, 'hola', 3.14, (1, 2)]\n",
      "[2, 'mundo', 3.14, (1, 2)]\n"
     ]
    }
   ],
   "source": [
    "print (\"Modificación de una lista\")\n",
    "lista = [1, \"hola\", 3.14, (1,2)]\n",
    "print (lista)\n",
    "lista[0] = 2\n",
    "lista[1] = \"mundo\"\n",
    "print (lista)"
   ]
  },
  {
   "cell_type": "markdown",
   "id": "3def7977",
   "metadata": {},
   "source": [
    "El slicing se utiliza para obtener una porción de la lista\n",
    "\n",
    "Permite extraer una porción de la lista utilizando dos índices de inicio y fin\n",
    "\n",
    "El resultado es una nueva lista\n",
    "\n",
    "### Slicing de una lista"
   ]
  },
  {
   "cell_type": "code",
   "execution_count": 15,
   "id": "e4b53785",
   "metadata": {},
   "outputs": [
    {
     "name": "stdout",
     "output_type": "stream",
     "text": [
      "Slicing de una lista\n",
      "['P', 'y', 't', 'h', 'o', 'n', 'L', 'a', 'P', 'a', 'z']\n",
      "['t', 'h', 'o', 'n', 'L']\n",
      "<class 'list'>\n"
     ]
    }
   ],
   "source": [
    "print (\"Slicing de una lista\")\n",
    "lista = [\"P\", \"y\", \"t\", \"h\", \"o\", \"n\", \"L\", \"a\", \"P\", \"a\", \"z\"]\n",
    "print (lista)\n",
    "sub_lista = lista[2:7]\n",
    "print (sub_lista)\n",
    "print (type(sub_lista))"
   ]
  },
  {
   "cell_type": "markdown",
   "id": "3c4f13d5",
   "metadata": {},
   "source": [
    "### Slicing con paso positivo"
   ]
  },
  {
   "cell_type": "code",
   "execution_count": 16,
   "id": "32b9a0c6",
   "metadata": {},
   "outputs": [
    {
     "name": "stdout",
     "output_type": "stream",
     "text": [
      "Slicing con paso positivo\n",
      "['P', 'y', 't', 'h', 'o', 'n', 'L', 'a', 'P', 'a', 'z']\n",
      "['P', 'h', 'L']\n"
     ]
    }
   ],
   "source": [
    "print (\"Slicing con paso positivo\")\n",
    "lista = [\"P\", \"y\", \"t\", \"h\", \"o\", \"n\", \"L\", \"a\", \"P\", \"a\", \"z\"]\n",
    "print (lista)\n",
    "sub_lista = lista[0:9:3]\n",
    "print (sub_lista)"
   ]
  },
  {
   "cell_type": "markdown",
   "id": "44f930f2",
   "metadata": {},
   "source": [
    "### Slicing con paso negativo"
   ]
  },
  {
   "cell_type": "code",
   "execution_count": 17,
   "id": "199103f4",
   "metadata": {},
   "outputs": [
    {
     "name": "stdout",
     "output_type": "stream",
     "text": [
      "Slicing con paso negativo\n",
      "['P', 'y', 't', 'h', 'o', 'n', 'L', 'a', 'P', 'a', 'z']\n",
      "['P', 'o']\n"
     ]
    }
   ],
   "source": [
    "print (\"Slicing con paso negativo\")\n",
    "lista = [\"P\", \"y\", \"t\", \"h\", \"o\", \"n\", \"L\", \"a\", \"P\", \"a\", \"z\"]\n",
    "print (lista)\n",
    "sub_lista = lista[8:2:-4]\n",
    "print (sub_lista)"
   ]
  },
  {
   "cell_type": "markdown",
   "id": "00d83fa7",
   "metadata": {},
   "source": [
    "### Slicing negativo con paso negativo"
   ]
  },
  {
   "cell_type": "code",
   "execution_count": 18,
   "id": "0f676909",
   "metadata": {},
   "outputs": [
    {
     "name": "stdout",
     "output_type": "stream",
     "text": [
      "Slicing negativo con paso negativo\n",
      "['P', 'y', 't', 'h', 'o', 'n', 'L', 'a', 'P', 'a', 'z']\n",
      "['z', 'P', 'L', 'o']\n"
     ]
    }
   ],
   "source": [
    "print (\"Slicing negativo con paso negativo\")\n",
    "lista = [\"P\", \"y\", \"t\", \"h\", \"o\", \"n\", \"L\", \"a\", \"P\", \"a\", \"z\"]\n",
    "print (lista)\n",
    "sub_lista = lista[-1:-8:-2]\n",
    "print (sub_lista)"
   ]
  },
  {
   "cell_type": "markdown",
   "id": "e5e5f354",
   "metadata": {},
   "source": [
    "### Slicing negativo con paso positivo"
   ]
  },
  {
   "cell_type": "code",
   "execution_count": 19,
   "id": "78cf2e0a",
   "metadata": {},
   "outputs": [
    {
     "name": "stdout",
     "output_type": "stream",
     "text": [
      "Slicing negativo con paso positivo\n",
      "['P', 'y', 't', 'h', 'o', 'n', 'L', 'a', 'P', 'a', 'z']\n",
      "['h', 'n', 'a', 'a']\n"
     ]
    }
   ],
   "source": [
    "print (\"Slicing negativo con paso positivo\")\n",
    "lista = [\"P\", \"y\", \"t\", \"h\", \"o\", \"n\", \"L\", \"a\", \"P\", \"a\", \"z\"]\n",
    "print (lista)\n",
    "sub_lista = lista[-8:-1:2]\n",
    "print (sub_lista)"
   ]
  },
  {
   "cell_type": "markdown",
   "id": "832e4642",
   "metadata": {},
   "source": [
    "### Concatenación de listas\n",
    "\n",
    "Las listas se pueden concatenar utilizando el operador +\n",
    "\n",
    "El resultado es una nueva lista con los elementos de las listas originales"
   ]
  },
  {
   "cell_type": "code",
   "execution_count": 20,
   "id": "e05cc37d",
   "metadata": {},
   "outputs": [
    {
     "name": "stdout",
     "output_type": "stream",
     "text": [
      "Concatenación de listas\n",
      "[1, 2, 3] ['a', 'b', 'c']\n",
      "[1, 2, 3, 'a', 'b', 'c']\n",
      "<class 'list'>\n"
     ]
    }
   ],
   "source": [
    "print (\"Concatenación de listas\")\n",
    "lista1 = [1,2,3]\n",
    "lista2 = [\"a\",\"b\",\"c\"]\n",
    "concatenar = lista1 + lista2\n",
    "print (lista1, lista2)\n",
    "print (concatenar)\n",
    "print (type(concatenar))"
   ]
  },
  {
   "cell_type": "markdown",
   "id": "ce360c5a",
   "metadata": {},
   "source": [
    "### Repetición de listas\n",
    "\n",
    "Las listas se pueden repetir utilizando el operador * y un número entero n\n",
    "\n",
    "El resultado es una nueva lista con los elementos de la lista original repetidos n veces"
   ]
  },
  {
   "cell_type": "code",
   "execution_count": 21,
   "id": "e08f6272",
   "metadata": {},
   "outputs": [
    {
     "name": "stdout",
     "output_type": "stream",
     "text": [
      "Repetición de listas\n",
      "[True, False]\n",
      "[True, False, True, False, True, False]\n",
      "<class 'list'>\n"
     ]
    }
   ],
   "source": [
    "print (\"Repetición de listas\")\n",
    "lista = [True, False]\n",
    "repetir = lista * 3\n",
    "print (lista)\n",
    "print (repetir)\n",
    "print (type(repetir))"
   ]
  },
  {
   "cell_type": "markdown",
   "id": "34527389",
   "metadata": {},
   "source": [
    "### Métodos de las listas\n",
    "\n",
    "Las listas al ser mutables tiene una mayor cantidad de métodos que las tuplas\n",
    "\n",
    "* Métodos de búsqueda\n",
    "* Métodos de adición\n",
    "* Métodos de eliminación\n",
    "* Métodos de ordenamiento\n",
    "* Métodos de copia\n",
    "\n",
    "### Métodos de búsqueda\n",
    "\n",
    "Los métodos de búsqueda nos permiten buscar información en la lista\n",
    "\n",
    "* index()\n",
    "* count()\n",
    "\n",
    "index(valor) recibe un valor y devuelve el índice de la primera aparición en la lista, si no existe lanza un error"
   ]
  },
  {
   "cell_type": "code",
   "execution_count": null,
   "id": "40d7ef8e",
   "metadata": {},
   "outputs": [],
   "source": [
    "print (\"Método index(valor)\")\n",
    "lista = [1,True,3.14,\"hola\",5]\n",
    "valor = \"hola\"\n",
    "print (valor, lista.index(valor))\n",
    "valor = 3.14\n",
    "print (valor, lista.index(valor))"
   ]
  },
  {
   "cell_type": "markdown",
   "id": "c29a354e",
   "metadata": {},
   "source": [
    "count(valor) recibe un valor y devuelve el número de veces que aparece en la lista"
   ]
  },
  {
   "cell_type": "code",
   "execution_count": null,
   "id": "7006ed79",
   "metadata": {},
   "outputs": [],
   "source": [
    "print (\"Método count(valor)\")\n",
    "lista = [1,True,3.14,\"hola\",5, True, True, 3.140]\n",
    "valor = True\n",
    "print (valor, lista.count(valor))\n",
    "valor = 3.14\n",
    "print (valor, lista.count(valor))"
   ]
  },
  {
   "cell_type": "markdown",
   "id": "3f60abdc",
   "metadata": {},
   "source": [
    "### Métodos de adición\n",
    "\n",
    "Los métodos de adición nos permiten agregar elementos a la lista\n",
    "\n",
    "* insert()\n",
    "* append()\n",
    "* extend()\n",
    "\n",
    "No retornan un valor, modifican la lista original\n",
    "\n",
    "insert(i, valor) recibe un índice y un valor, inserta el valor en la posición del índice"
   ]
  },
  {
   "cell_type": "code",
   "execution_count": null,
   "id": "a53bbe62",
   "metadata": {},
   "outputs": [],
   "source": [
    "print (\"Método insert(i, valor)\")\n",
    "lista = [1,2,3,4,5]\n",
    "print (lista)\n",
    "lista.insert(2, \"OwO\")\n",
    "print (lista)"
   ]
  },
  {
   "cell_type": "markdown",
   "id": "e27698ff",
   "metadata": {},
   "source": [
    "append(valor) recibe un valor y lo agrega al final de la lista"
   ]
  },
  {
   "cell_type": "code",
   "execution_count": null,
   "id": "983432b3",
   "metadata": {},
   "outputs": [],
   "source": [
    "print (\"Método append(valor)\")\n",
    "lista = [1,2,3,4,5]\n",
    "print (lista)\n",
    "lista.append(\"(OwO=)\")\n",
    "print (lista)"
   ]
  },
  {
   "cell_type": "markdown",
   "id": "59e5badd",
   "metadata": {},
   "source": [
    "extend(iterable) recibe una secuencia y agrega sus elementos al final de la lista como otra lista, tupla, cadena"
   ]
  },
  {
   "cell_type": "code",
   "execution_count": null,
   "id": "ea0d4cb1",
   "metadata": {},
   "outputs": [],
   "source": [
    "print (\"Método extend(iterable)\")\n",
    "lista = [1,2,3]\n",
    "print (lista)\n",
    "lista.extend(\":3\")\n",
    "print (lista)\n",
    "lista.extend([\"(¬_¬ )\", \"(O_O=)\"])\n",
    "print (lista)\n",
    "lista.extend((\"😅\", \"😎\"))\n",
    "print (lista)"
   ]
  },
  {
   "cell_type": "markdown",
   "id": "9785b3d5",
   "metadata": {},
   "source": [
    "### Métodos de eliminación\n",
    "\n",
    "Los métodos de eliminación nos permiten eliminar elementos de la lista\n",
    "\n",
    "* remove()\n",
    "* clear()\n",
    "\n",
    "No retornan un valor, modifican la lista original\n",
    "\n",
    "* pop()\n",
    "\n",
    "Retorna el valor eliminado y modifica la lista original\n",
    "\n",
    "remove(valor) recibe un valor y elimina la primera aparición de ese valor en la lista si no existe lanza un error"
   ]
  },
  {
   "cell_type": "code",
   "execution_count": null,
   "id": "e8ebaa9c",
   "metadata": {},
   "outputs": [],
   "source": [
    "print (\"Método remove(valor)\")\n",
    "lista = [1,2,\"UwU\",4,5, \"UwU\"]\n",
    "print (lista)\n",
    "lista.remove(\"UwU\")\n",
    "print (lista)"
   ]
  },
  {
   "cell_type": "markdown",
   "id": "81c63a5e",
   "metadata": {},
   "source": [
    "pop(i) o pop() recibe un index o índice y elimina el elemento en esa posición\n",
    "\n",
    "Si no se especifica el índice elimina el último elemento"
   ]
  },
  {
   "cell_type": "code",
   "execution_count": null,
   "id": "176aab5d",
   "metadata": {},
   "outputs": [],
   "source": [
    "print (\"Método pop(i)\")\n",
    "lista = [\"OwO\",3,\"UwU\",5]\n",
    "print (lista)\n",
    "lista.pop(1)\n",
    "print (lista)\n",
    "print (\"Método pop()\")\n",
    "lista.pop()\n",
    "print (lista)"
   ]
  },
  {
   "cell_type": "markdown",
   "id": "c47c2387",
   "metadata": {},
   "source": [
    "clear() elimina todos los elementos de la lista dejándola vacía"
   ]
  },
  {
   "cell_type": "code",
   "execution_count": null,
   "id": "13913bbc",
   "metadata": {},
   "outputs": [],
   "source": [
    "print (\"Método clear()\")\n",
    "lista = [\"ewe\",\"OwO\",\"UwU\"]\n",
    "print (lista)\n",
    "lista.clear()\n",
    "print (lista)"
   ]
  },
  {
   "cell_type": "markdown",
   "id": "cc0e0c94",
   "metadata": {},
   "source": [
    "### Métodos de ordenamiento\n",
    "\n",
    "Los métodos de reordenar nos permiten ordenar los elementos de la lista\n",
    "\n",
    "* sort()\n",
    "* reverse()\n",
    "\n",
    "No retornan un valor, modifican la lista original\n",
    "\n",
    "* sort() ordena los elementos de la lista de menor a mayor"
   ]
  },
  {
   "cell_type": "code",
   "execution_count": null,
   "id": "8589e9fe",
   "metadata": {},
   "outputs": [],
   "source": [
    "print (\"Método sort()\")\n",
    "lista = [3,1,5,2,4]\n",
    "print (lista)\n",
    "lista.sort()\n",
    "print (lista)"
   ]
  }
 ],
 "metadata": {
  "kernelspec": {
   "display_name": "Python 3",
   "language": "python",
   "name": "python3"
  },
  "language_info": {
   "codemirror_mode": {
    "name": "ipython",
    "version": 3
   },
   "file_extension": ".py",
   "mimetype": "text/x-python",
   "name": "python",
   "nbconvert_exporter": "python",
   "pygments_lexer": "ipython3",
   "version": "3.12.1"
  }
 },
 "nbformat": 4,
 "nbformat_minor": 5
}
